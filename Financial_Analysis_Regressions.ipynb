{
  "nbformat": 4,
  "nbformat_minor": 0,
  "metadata": {
    "colab": {
      "name": "Financial_Analysis_Regressions.ipynb",
      "provenance": [],
      "collapsed_sections": [],
      "toc_visible": true
    },
    "kernelspec": {
      "name": "python3",
      "display_name": "Python 3"
    },
    "language_info": {
      "name": "python"
    }
  },
  "cells": [
    {
      "cell_type": "markdown",
      "source": [
        "#Financial Analysis using Regressions\n",
        "\n",
        "Regression analysis is one of the most frequently used tools in the world of finance. It quantifies the relationship between a variable (dependent variable / the target / y) and one or more explanatory variables (independent variable(s) / x).\n",
        "\n",
        "Types of Regressions:\n",
        "1. *Simple Regressions*\n",
        "  * y_i = beta_0 + beta_1 * x_1 + epsilon_i\n",
        "  * assumes the existence of a linear relationship between two variables\n",
        "  * a straight line is the best fit; helps describe the rapport between all the data points in a plot\n",
        "  * i.e. y = house price x = house size \n",
        "\n",
        "2. *Multivariate Regressions*\n",
        "  * y_i = beta_0 + beta_1 * x_1 + beta_2 * x_2 + beta_3 * x_3 + epsilon_i\n",
        "  * considers more variables in the regression equation to improve the explanatory power and provide a better picture of circumstances that contribute to the predictive variable (the target).\n"
      ],
      "metadata": {
        "id": "bqKw7ZlWofoW"
      }
    },
    {
      "cell_type": "code",
      "source": [
        "# Import relevant libraries\n",
        "import numpy as np\n",
        "import pandas as pd\n",
        "\n",
        "# Statistical Analysis API\n",
        "from scipy import stats\n",
        "import statsmodels.api as sm\n",
        "\n",
        "# Visualization\n",
        "import matplotlib.pyplot as plt"
      ],
      "metadata": {
        "colab": {
          "base_uri": "https://localhost:8080/"
        },
        "id": "ywFegSOcq1vr",
        "outputId": "87b89d24-cf79-467c-8059-dc2185ce387e"
      },
      "execution_count": null,
      "outputs": [
        {
          "output_type": "stream",
          "name": "stderr",
          "text": [
            "/usr/local/lib/python3.7/dist-packages/statsmodels/tools/_testing.py:19: FutureWarning: pandas.util.testing is deprecated. Use the functions in the public API at pandas.testing instead.\n",
            "  import pandas.util.testing as tm\n"
          ]
        }
      ]
    },
    {
      "cell_type": "code",
      "source": [
        "# Import housing data from Excel Spreadsheet\n",
        "housing_data = pd.read_excel('/content/drive/MyDrive/Finance_Investment/Housing.xlsx')\n",
        "housing_data"
      ],
      "metadata": {
        "colab": {
          "base_uri": "https://localhost:8080/",
          "height": 676
        },
        "id": "Wh3O08v5r9SM",
        "outputId": "0d894c3c-8317-4b62-9cb9-a8ff4345ba62"
      },
      "execution_count": null,
      "outputs": [
        {
          "output_type": "execute_result",
          "data": {
            "text/html": [
              "\n",
              "  <div id=\"df-01098765-7952-43d8-953b-cbb1357fcde0\">\n",
              "    <div class=\"colab-df-container\">\n",
              "      <div>\n",
              "<style scoped>\n",
              "    .dataframe tbody tr th:only-of-type {\n",
              "        vertical-align: middle;\n",
              "    }\n",
              "\n",
              "    .dataframe tbody tr th {\n",
              "        vertical-align: top;\n",
              "    }\n",
              "\n",
              "    .dataframe thead th {\n",
              "        text-align: right;\n",
              "    }\n",
              "</style>\n",
              "<table border=\"1\" class=\"dataframe\">\n",
              "  <thead>\n",
              "    <tr style=\"text-align: right;\">\n",
              "      <th></th>\n",
              "      <th>House Price</th>\n",
              "      <th>House Size (sq.ft.)</th>\n",
              "      <th>State</th>\n",
              "      <th>Number of Rooms</th>\n",
              "      <th>Year of Construction</th>\n",
              "    </tr>\n",
              "  </thead>\n",
              "  <tbody>\n",
              "    <tr>\n",
              "      <th>0</th>\n",
              "      <td>1116000</td>\n",
              "      <td>1940</td>\n",
              "      <td>IN</td>\n",
              "      <td>8</td>\n",
              "      <td>2002</td>\n",
              "    </tr>\n",
              "    <tr>\n",
              "      <th>1</th>\n",
              "      <td>860000</td>\n",
              "      <td>1300</td>\n",
              "      <td>IN</td>\n",
              "      <td>5</td>\n",
              "      <td>1992</td>\n",
              "    </tr>\n",
              "    <tr>\n",
              "      <th>2</th>\n",
              "      <td>818400</td>\n",
              "      <td>1420</td>\n",
              "      <td>IN</td>\n",
              "      <td>6</td>\n",
              "      <td>1987</td>\n",
              "    </tr>\n",
              "    <tr>\n",
              "      <th>3</th>\n",
              "      <td>1000000</td>\n",
              "      <td>1680</td>\n",
              "      <td>IN</td>\n",
              "      <td>7</td>\n",
              "      <td>2000</td>\n",
              "    </tr>\n",
              "    <tr>\n",
              "      <th>4</th>\n",
              "      <td>640000</td>\n",
              "      <td>1270</td>\n",
              "      <td>IN</td>\n",
              "      <td>5</td>\n",
              "      <td>1995</td>\n",
              "    </tr>\n",
              "    <tr>\n",
              "      <th>5</th>\n",
              "      <td>1010000</td>\n",
              "      <td>1850</td>\n",
              "      <td>IN</td>\n",
              "      <td>7</td>\n",
              "      <td>1998</td>\n",
              "    </tr>\n",
              "    <tr>\n",
              "      <th>6</th>\n",
              "      <td>600000</td>\n",
              "      <td>1000</td>\n",
              "      <td>IN</td>\n",
              "      <td>4</td>\n",
              "      <td>2015</td>\n",
              "    </tr>\n",
              "    <tr>\n",
              "      <th>7</th>\n",
              "      <td>700000</td>\n",
              "      <td>1100</td>\n",
              "      <td>LA</td>\n",
              "      <td>4</td>\n",
              "      <td>2014</td>\n",
              "    </tr>\n",
              "    <tr>\n",
              "      <th>8</th>\n",
              "      <td>1100000</td>\n",
              "      <td>1600</td>\n",
              "      <td>LA</td>\n",
              "      <td>7</td>\n",
              "      <td>2017</td>\n",
              "    </tr>\n",
              "    <tr>\n",
              "      <th>9</th>\n",
              "      <td>570000</td>\n",
              "      <td>1000</td>\n",
              "      <td>NY</td>\n",
              "      <td>5</td>\n",
              "      <td>1997</td>\n",
              "    </tr>\n",
              "    <tr>\n",
              "      <th>10</th>\n",
              "      <td>860000</td>\n",
              "      <td>2150</td>\n",
              "      <td>NY</td>\n",
              "      <td>9</td>\n",
              "      <td>1997</td>\n",
              "    </tr>\n",
              "    <tr>\n",
              "      <th>11</th>\n",
              "      <td>1085000</td>\n",
              "      <td>1900</td>\n",
              "      <td>NY</td>\n",
              "      <td>9</td>\n",
              "      <td>2000</td>\n",
              "    </tr>\n",
              "    <tr>\n",
              "      <th>12</th>\n",
              "      <td>1250000</td>\n",
              "      <td>2200</td>\n",
              "      <td>NY</td>\n",
              "      <td>9</td>\n",
              "      <td>2014</td>\n",
              "    </tr>\n",
              "    <tr>\n",
              "      <th>13</th>\n",
              "      <td>850000</td>\n",
              "      <td>1100</td>\n",
              "      <td>TX</td>\n",
              "      <td>4</td>\n",
              "      <td>2017</td>\n",
              "    </tr>\n",
              "    <tr>\n",
              "      <th>14</th>\n",
              "      <td>640000</td>\n",
              "      <td>860</td>\n",
              "      <td>TX</td>\n",
              "      <td>4</td>\n",
              "      <td>1997</td>\n",
              "    </tr>\n",
              "    <tr>\n",
              "      <th>15</th>\n",
              "      <td>900000</td>\n",
              "      <td>1325</td>\n",
              "      <td>TX</td>\n",
              "      <td>6</td>\n",
              "      <td>1997</td>\n",
              "    </tr>\n",
              "    <tr>\n",
              "      <th>16</th>\n",
              "      <td>730000</td>\n",
              "      <td>1350</td>\n",
              "      <td>TX</td>\n",
              "      <td>6</td>\n",
              "      <td>2000</td>\n",
              "    </tr>\n",
              "    <tr>\n",
              "      <th>17</th>\n",
              "      <td>750000</td>\n",
              "      <td>1600</td>\n",
              "      <td>TX</td>\n",
              "      <td>6</td>\n",
              "      <td>1992</td>\n",
              "    </tr>\n",
              "    <tr>\n",
              "      <th>18</th>\n",
              "      <td>650000</td>\n",
              "      <td>950</td>\n",
              "      <td>TX</td>\n",
              "      <td>2</td>\n",
              "      <td>1987</td>\n",
              "    </tr>\n",
              "    <tr>\n",
              "      <th>19</th>\n",
              "      <td>680000</td>\n",
              "      <td>1250</td>\n",
              "      <td>TX</td>\n",
              "      <td>4</td>\n",
              "      <td>2000</td>\n",
              "    </tr>\n",
              "  </tbody>\n",
              "</table>\n",
              "</div>\n",
              "      <button class=\"colab-df-convert\" onclick=\"convertToInteractive('df-01098765-7952-43d8-953b-cbb1357fcde0')\"\n",
              "              title=\"Convert this dataframe to an interactive table.\"\n",
              "              style=\"display:none;\">\n",
              "        \n",
              "  <svg xmlns=\"http://www.w3.org/2000/svg\" height=\"24px\"viewBox=\"0 0 24 24\"\n",
              "       width=\"24px\">\n",
              "    <path d=\"M0 0h24v24H0V0z\" fill=\"none\"/>\n",
              "    <path d=\"M18.56 5.44l.94 2.06.94-2.06 2.06-.94-2.06-.94-.94-2.06-.94 2.06-2.06.94zm-11 1L8.5 8.5l.94-2.06 2.06-.94-2.06-.94L8.5 2.5l-.94 2.06-2.06.94zm10 10l.94 2.06.94-2.06 2.06-.94-2.06-.94-.94-2.06-.94 2.06-2.06.94z\"/><path d=\"M17.41 7.96l-1.37-1.37c-.4-.4-.92-.59-1.43-.59-.52 0-1.04.2-1.43.59L10.3 9.45l-7.72 7.72c-.78.78-.78 2.05 0 2.83L4 21.41c.39.39.9.59 1.41.59.51 0 1.02-.2 1.41-.59l7.78-7.78 2.81-2.81c.8-.78.8-2.07 0-2.86zM5.41 20L4 18.59l7.72-7.72 1.47 1.35L5.41 20z\"/>\n",
              "  </svg>\n",
              "      </button>\n",
              "      \n",
              "  <style>\n",
              "    .colab-df-container {\n",
              "      display:flex;\n",
              "      flex-wrap:wrap;\n",
              "      gap: 12px;\n",
              "    }\n",
              "\n",
              "    .colab-df-convert {\n",
              "      background-color: #E8F0FE;\n",
              "      border: none;\n",
              "      border-radius: 50%;\n",
              "      cursor: pointer;\n",
              "      display: none;\n",
              "      fill: #1967D2;\n",
              "      height: 32px;\n",
              "      padding: 0 0 0 0;\n",
              "      width: 32px;\n",
              "    }\n",
              "\n",
              "    .colab-df-convert:hover {\n",
              "      background-color: #E2EBFA;\n",
              "      box-shadow: 0px 1px 2px rgba(60, 64, 67, 0.3), 0px 1px 3px 1px rgba(60, 64, 67, 0.15);\n",
              "      fill: #174EA6;\n",
              "    }\n",
              "\n",
              "    [theme=dark] .colab-df-convert {\n",
              "      background-color: #3B4455;\n",
              "      fill: #D2E3FC;\n",
              "    }\n",
              "\n",
              "    [theme=dark] .colab-df-convert:hover {\n",
              "      background-color: #434B5C;\n",
              "      box-shadow: 0px 1px 3px 1px rgba(0, 0, 0, 0.15);\n",
              "      filter: drop-shadow(0px 1px 2px rgba(0, 0, 0, 0.3));\n",
              "      fill: #FFFFFF;\n",
              "    }\n",
              "  </style>\n",
              "\n",
              "      <script>\n",
              "        const buttonEl =\n",
              "          document.querySelector('#df-01098765-7952-43d8-953b-cbb1357fcde0 button.colab-df-convert');\n",
              "        buttonEl.style.display =\n",
              "          google.colab.kernel.accessAllowed ? 'block' : 'none';\n",
              "\n",
              "        async function convertToInteractive(key) {\n",
              "          const element = document.querySelector('#df-01098765-7952-43d8-953b-cbb1357fcde0');\n",
              "          const dataTable =\n",
              "            await google.colab.kernel.invokeFunction('convertToInteractive',\n",
              "                                                     [key], {});\n",
              "          if (!dataTable) return;\n",
              "\n",
              "          const docLinkHtml = 'Like what you see? Visit the ' +\n",
              "            '<a target=\"_blank\" href=https://colab.research.google.com/notebooks/data_table.ipynb>data table notebook</a>'\n",
              "            + ' to learn more about interactive tables.';\n",
              "          element.innerHTML = '';\n",
              "          dataTable['output_type'] = 'display_data';\n",
              "          await google.colab.output.renderOutput(dataTable, element);\n",
              "          const docLink = document.createElement('div');\n",
              "          docLink.innerHTML = docLinkHtml;\n",
              "          element.appendChild(docLink);\n",
              "        }\n",
              "      </script>\n",
              "    </div>\n",
              "  </div>\n",
              "  "
            ],
            "text/plain": [
              "    House Price  House Size (sq.ft.)  ... Number of Rooms  Year of Construction\n",
              "0       1116000                 1940  ...               8                  2002\n",
              "1        860000                 1300  ...               5                  1992\n",
              "2        818400                 1420  ...               6                  1987\n",
              "3       1000000                 1680  ...               7                  2000\n",
              "4        640000                 1270  ...               5                  1995\n",
              "5       1010000                 1850  ...               7                  1998\n",
              "6        600000                 1000  ...               4                  2015\n",
              "7        700000                 1100  ...               4                  2014\n",
              "8       1100000                 1600  ...               7                  2017\n",
              "9        570000                 1000  ...               5                  1997\n",
              "10       860000                 2150  ...               9                  1997\n",
              "11      1085000                 1900  ...               9                  2000\n",
              "12      1250000                 2200  ...               9                  2014\n",
              "13       850000                 1100  ...               4                  2017\n",
              "14       640000                  860  ...               4                  1997\n",
              "15       900000                 1325  ...               6                  1997\n",
              "16       730000                 1350  ...               6                  2000\n",
              "17       750000                 1600  ...               6                  1992\n",
              "18       650000                  950  ...               2                  1987\n",
              "19       680000                 1250  ...               4                  2000\n",
              "\n",
              "[20 rows x 5 columns]"
            ]
          },
          "metadata": {},
          "execution_count": 6
        }
      ]
    },
    {
      "cell_type": "code",
      "source": [
        "# Review the House Price and House Size \n",
        "housing_data[['House Price', 'House Size (sq.ft.)']]"
      ],
      "metadata": {
        "colab": {
          "base_uri": "https://localhost:8080/",
          "height": 676
        },
        "id": "eaOqWrIvqxeO",
        "outputId": "07a19e2d-57b5-40a9-cb99-a4c3d451fec8"
      },
      "execution_count": null,
      "outputs": [
        {
          "output_type": "execute_result",
          "data": {
            "text/html": [
              "\n",
              "  <div id=\"df-980ccfe7-d72c-40ee-b5f5-4a50c19bdd02\">\n",
              "    <div class=\"colab-df-container\">\n",
              "      <div>\n",
              "<style scoped>\n",
              "    .dataframe tbody tr th:only-of-type {\n",
              "        vertical-align: middle;\n",
              "    }\n",
              "\n",
              "    .dataframe tbody tr th {\n",
              "        vertical-align: top;\n",
              "    }\n",
              "\n",
              "    .dataframe thead th {\n",
              "        text-align: right;\n",
              "    }\n",
              "</style>\n",
              "<table border=\"1\" class=\"dataframe\">\n",
              "  <thead>\n",
              "    <tr style=\"text-align: right;\">\n",
              "      <th></th>\n",
              "      <th>House Price</th>\n",
              "      <th>House Size (sq.ft.)</th>\n",
              "    </tr>\n",
              "  </thead>\n",
              "  <tbody>\n",
              "    <tr>\n",
              "      <th>0</th>\n",
              "      <td>1116000</td>\n",
              "      <td>1940</td>\n",
              "    </tr>\n",
              "    <tr>\n",
              "      <th>1</th>\n",
              "      <td>860000</td>\n",
              "      <td>1300</td>\n",
              "    </tr>\n",
              "    <tr>\n",
              "      <th>2</th>\n",
              "      <td>818400</td>\n",
              "      <td>1420</td>\n",
              "    </tr>\n",
              "    <tr>\n",
              "      <th>3</th>\n",
              "      <td>1000000</td>\n",
              "      <td>1680</td>\n",
              "    </tr>\n",
              "    <tr>\n",
              "      <th>4</th>\n",
              "      <td>640000</td>\n",
              "      <td>1270</td>\n",
              "    </tr>\n",
              "    <tr>\n",
              "      <th>5</th>\n",
              "      <td>1010000</td>\n",
              "      <td>1850</td>\n",
              "    </tr>\n",
              "    <tr>\n",
              "      <th>6</th>\n",
              "      <td>600000</td>\n",
              "      <td>1000</td>\n",
              "    </tr>\n",
              "    <tr>\n",
              "      <th>7</th>\n",
              "      <td>700000</td>\n",
              "      <td>1100</td>\n",
              "    </tr>\n",
              "    <tr>\n",
              "      <th>8</th>\n",
              "      <td>1100000</td>\n",
              "      <td>1600</td>\n",
              "    </tr>\n",
              "    <tr>\n",
              "      <th>9</th>\n",
              "      <td>570000</td>\n",
              "      <td>1000</td>\n",
              "    </tr>\n",
              "    <tr>\n",
              "      <th>10</th>\n",
              "      <td>860000</td>\n",
              "      <td>2150</td>\n",
              "    </tr>\n",
              "    <tr>\n",
              "      <th>11</th>\n",
              "      <td>1085000</td>\n",
              "      <td>1900</td>\n",
              "    </tr>\n",
              "    <tr>\n",
              "      <th>12</th>\n",
              "      <td>1250000</td>\n",
              "      <td>2200</td>\n",
              "    </tr>\n",
              "    <tr>\n",
              "      <th>13</th>\n",
              "      <td>850000</td>\n",
              "      <td>1100</td>\n",
              "    </tr>\n",
              "    <tr>\n",
              "      <th>14</th>\n",
              "      <td>640000</td>\n",
              "      <td>860</td>\n",
              "    </tr>\n",
              "    <tr>\n",
              "      <th>15</th>\n",
              "      <td>900000</td>\n",
              "      <td>1325</td>\n",
              "    </tr>\n",
              "    <tr>\n",
              "      <th>16</th>\n",
              "      <td>730000</td>\n",
              "      <td>1350</td>\n",
              "    </tr>\n",
              "    <tr>\n",
              "      <th>17</th>\n",
              "      <td>750000</td>\n",
              "      <td>1600</td>\n",
              "    </tr>\n",
              "    <tr>\n",
              "      <th>18</th>\n",
              "      <td>650000</td>\n",
              "      <td>950</td>\n",
              "    </tr>\n",
              "    <tr>\n",
              "      <th>19</th>\n",
              "      <td>680000</td>\n",
              "      <td>1250</td>\n",
              "    </tr>\n",
              "  </tbody>\n",
              "</table>\n",
              "</div>\n",
              "      <button class=\"colab-df-convert\" onclick=\"convertToInteractive('df-980ccfe7-d72c-40ee-b5f5-4a50c19bdd02')\"\n",
              "              title=\"Convert this dataframe to an interactive table.\"\n",
              "              style=\"display:none;\">\n",
              "        \n",
              "  <svg xmlns=\"http://www.w3.org/2000/svg\" height=\"24px\"viewBox=\"0 0 24 24\"\n",
              "       width=\"24px\">\n",
              "    <path d=\"M0 0h24v24H0V0z\" fill=\"none\"/>\n",
              "    <path d=\"M18.56 5.44l.94 2.06.94-2.06 2.06-.94-2.06-.94-.94-2.06-.94 2.06-2.06.94zm-11 1L8.5 8.5l.94-2.06 2.06-.94-2.06-.94L8.5 2.5l-.94 2.06-2.06.94zm10 10l.94 2.06.94-2.06 2.06-.94-2.06-.94-.94-2.06-.94 2.06-2.06.94z\"/><path d=\"M17.41 7.96l-1.37-1.37c-.4-.4-.92-.59-1.43-.59-.52 0-1.04.2-1.43.59L10.3 9.45l-7.72 7.72c-.78.78-.78 2.05 0 2.83L4 21.41c.39.39.9.59 1.41.59.51 0 1.02-.2 1.41-.59l7.78-7.78 2.81-2.81c.8-.78.8-2.07 0-2.86zM5.41 20L4 18.59l7.72-7.72 1.47 1.35L5.41 20z\"/>\n",
              "  </svg>\n",
              "      </button>\n",
              "      \n",
              "  <style>\n",
              "    .colab-df-container {\n",
              "      display:flex;\n",
              "      flex-wrap:wrap;\n",
              "      gap: 12px;\n",
              "    }\n",
              "\n",
              "    .colab-df-convert {\n",
              "      background-color: #E8F0FE;\n",
              "      border: none;\n",
              "      border-radius: 50%;\n",
              "      cursor: pointer;\n",
              "      display: none;\n",
              "      fill: #1967D2;\n",
              "      height: 32px;\n",
              "      padding: 0 0 0 0;\n",
              "      width: 32px;\n",
              "    }\n",
              "\n",
              "    .colab-df-convert:hover {\n",
              "      background-color: #E2EBFA;\n",
              "      box-shadow: 0px 1px 2px rgba(60, 64, 67, 0.3), 0px 1px 3px 1px rgba(60, 64, 67, 0.15);\n",
              "      fill: #174EA6;\n",
              "    }\n",
              "\n",
              "    [theme=dark] .colab-df-convert {\n",
              "      background-color: #3B4455;\n",
              "      fill: #D2E3FC;\n",
              "    }\n",
              "\n",
              "    [theme=dark] .colab-df-convert:hover {\n",
              "      background-color: #434B5C;\n",
              "      box-shadow: 0px 1px 3px 1px rgba(0, 0, 0, 0.15);\n",
              "      filter: drop-shadow(0px 1px 2px rgba(0, 0, 0, 0.3));\n",
              "      fill: #FFFFFF;\n",
              "    }\n",
              "  </style>\n",
              "\n",
              "      <script>\n",
              "        const buttonEl =\n",
              "          document.querySelector('#df-980ccfe7-d72c-40ee-b5f5-4a50c19bdd02 button.colab-df-convert');\n",
              "        buttonEl.style.display =\n",
              "          google.colab.kernel.accessAllowed ? 'block' : 'none';\n",
              "\n",
              "        async function convertToInteractive(key) {\n",
              "          const element = document.querySelector('#df-980ccfe7-d72c-40ee-b5f5-4a50c19bdd02');\n",
              "          const dataTable =\n",
              "            await google.colab.kernel.invokeFunction('convertToInteractive',\n",
              "                                                     [key], {});\n",
              "          if (!dataTable) return;\n",
              "\n",
              "          const docLinkHtml = 'Like what you see? Visit the ' +\n",
              "            '<a target=\"_blank\" href=https://colab.research.google.com/notebooks/data_table.ipynb>data table notebook</a>'\n",
              "            + ' to learn more about interactive tables.';\n",
              "          element.innerHTML = '';\n",
              "          dataTable['output_type'] = 'display_data';\n",
              "          await google.colab.output.renderOutput(dataTable, element);\n",
              "          const docLink = document.createElement('div');\n",
              "          docLink.innerHTML = docLinkHtml;\n",
              "          element.appendChild(docLink);\n",
              "        }\n",
              "      </script>\n",
              "    </div>\n",
              "  </div>\n",
              "  "
            ],
            "text/plain": [
              "    House Price  House Size (sq.ft.)\n",
              "0       1116000                 1940\n",
              "1        860000                 1300\n",
              "2        818400                 1420\n",
              "3       1000000                 1680\n",
              "4        640000                 1270\n",
              "5       1010000                 1850\n",
              "6        600000                 1000\n",
              "7        700000                 1100\n",
              "8       1100000                 1600\n",
              "9        570000                 1000\n",
              "10       860000                 2150\n",
              "11      1085000                 1900\n",
              "12      1250000                 2200\n",
              "13       850000                 1100\n",
              "14       640000                  860\n",
              "15       900000                 1325\n",
              "16       730000                 1350\n",
              "17       750000                 1600\n",
              "18       650000                  950\n",
              "19       680000                 1250"
            ]
          },
          "metadata": {},
          "execution_count": 7
        }
      ]
    },
    {
      "cell_type": "markdown",
      "source": [
        "##Univariate Regression"
      ],
      "metadata": {
        "id": "j9kKBevgsUWE"
      }
    },
    {
      "cell_type": "code",
      "source": [
        "# Set independent (X) and dependent (Y) variables\n",
        "X = housing_data['House Size (sq.ft.)']\n",
        "Y = housing_data['House Price']\n",
        "X, Y"
      ],
      "metadata": {
        "colab": {
          "base_uri": "https://localhost:8080/"
        },
        "id": "FbiyN35ZuM_o",
        "outputId": "0e996f89-96dd-4c5e-dcbc-d96b01009acf"
      },
      "execution_count": null,
      "outputs": [
        {
          "output_type": "execute_result",
          "data": {
            "text/plain": [
              "(0     1940\n",
              " 1     1300\n",
              " 2     1420\n",
              " 3     1680\n",
              " 4     1270\n",
              " 5     1850\n",
              " 6     1000\n",
              " 7     1100\n",
              " 8     1600\n",
              " 9     1000\n",
              " 10    2150\n",
              " 11    1900\n",
              " 12    2200\n",
              " 13    1100\n",
              " 14     860\n",
              " 15    1325\n",
              " 16    1350\n",
              " 17    1600\n",
              " 18     950\n",
              " 19    1250\n",
              " Name: House Size (sq.ft.), dtype: int64, 0     1116000\n",
              " 1      860000\n",
              " 2      818400\n",
              " 3     1000000\n",
              " 4      640000\n",
              " 5     1010000\n",
              " 6      600000\n",
              " 7      700000\n",
              " 8     1100000\n",
              " 9      570000\n",
              " 10     860000\n",
              " 11    1085000\n",
              " 12    1250000\n",
              " 13     850000\n",
              " 14     640000\n",
              " 15     900000\n",
              " 16     730000\n",
              " 17     750000\n",
              " 18     650000\n",
              " 19     680000\n",
              " Name: House Price, dtype: int64)"
            ]
          },
          "metadata": {},
          "execution_count": 13
        }
      ]
    },
    {
      "cell_type": "code",
      "source": [
        "# Evaluate the max and min of X and Y\n",
        "X.min(), X.max(), Y.min(), Y.max()"
      ],
      "metadata": {
        "colab": {
          "base_uri": "https://localhost:8080/"
        },
        "id": "XhzlfwrlvaQM",
        "outputId": "e3b659ab-173b-43bd-d95f-052beadd7aa0"
      },
      "execution_count": null,
      "outputs": [
        {
          "output_type": "execute_result",
          "data": {
            "text/plain": [
              "(860, 2200, 570000, 1250000)"
            ]
          },
          "metadata": {},
          "execution_count": 18
        }
      ]
    },
    {
      "cell_type": "code",
      "source": [
        "# Visualize X and Y in a scatter plot\n",
        "plt.scatter(X,Y)\n",
        "plt.axis([0, 2500, 0, 1450000])\n",
        "plt.xlabel('House Size (sf)')\n",
        "plt.ylabel('House Price ($10^6)')\n",
        "plt.show();"
      ],
      "metadata": {
        "colab": {
          "base_uri": "https://localhost:8080/",
          "height": 290
        },
        "id": "QtPpnoqPuU8-",
        "outputId": "733ab086-48e2-43c2-a74a-e74d27d24723"
      },
      "execution_count": null,
      "outputs": [
        {
          "output_type": "display_data",
          "data": {
            "image/png": "[encoded data removed]",
            "text/plain": [
              "<Figure size 432x288 with 1 Axes>"
            ]
          },
          "metadata": {
            "needs_background": "light"
          }
        }
      ]
    },
    {
      "cell_type": "markdown",
      "source": [
        "Best fitting line helps to minimize residuals.\n",
        "\n",
        ">>![image.png](data:image/png;base64,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)\n",
        "\n",
        "\n",
        "\n"
      ],
      "metadata": {
        "id": "D2R7ISdlwcFH"
      }
    },
    {
      "cell_type": "markdown",
      "source": [
        "**Ordinary Least Square (OLS) Estimates** - coefficient found with determining residuals\n",
        "  * Y = alpha + beta * X + error"
      ],
      "metadata": {
        "id": "vdV-eulFw7PP"
      }
    },
    {
      "cell_type": "markdown",
      "source": [
        "Statisticians utilize a quantitative tool (**R^2**) to determine how good is a regression.\n",
        " * R^2 = 1 - (SSR/TSS)\n",
        "   * varies between 0-100%; higher it is, the more predictive power of the model\n",
        "\n",
        "**Total Sum of Squares (TSS)** - provides a sense of variabiliy of data\n",
        "  * TSS = Sum[x -x_bar]^2 = SSE + SSR\n",
        "   * SSE = Sum of the Squares \n",
        "   * SSR = Sum of the Squared Residuals (unexplained)"
      ],
      "metadata": {
        "id": "FnUZd1louu69"
      }
    },
    {
      "cell_type": "code",
      "source": [
        "# Statistical Analysis of the Regression\n",
        "X1 = sm.add_constant(X)\n",
        "reg = sm.OLS(Y, X1).fit()   # Ordinary Least Square (OLS) Estimates\n",
        "\n",
        "reg.summary()"
      ],
      "metadata": {
        "colab": {
          "base_uri": "https://localhost:8080/",
          "height": 538
        },
        "id": "HbLVyocTyTay",
        "outputId": "172cbed2-8fc4-4479-a917-b8d68488cb9e"
      },
      "execution_count": null,
      "outputs": [
        {
          "output_type": "stream",
          "name": "stderr",
          "text": [
            "/usr/local/lib/python3.7/dist-packages/statsmodels/tsa/tsatools.py:117: FutureWarning: In a future version of pandas all arguments of concat except for the argument 'objs' will be keyword-only\n",
            "  x = pd.concat(x[::order], 1)\n"
          ]
        },
        {
          "output_type": "execute_result",
          "data": {
            "text/html": [
              "<table class=\"simpletable\">\n",
              "<caption>OLS Regression Results</caption>\n",
              "<tr>\n",
              "  <th>Dep. Variable:</th>       <td>House Price</td>   <th>  R-squared:         </th> <td>   0.678</td>\n",
              "</tr>\n",
              "<tr>\n",
              "  <th>Model:</th>                   <td>OLS</td>       <th>  Adj. R-squared:    </th> <td>   0.660</td>\n",
              "</tr>\n",
              "<tr>\n",
              "  <th>Method:</th>             <td>Least Squares</td>  <th>  F-statistic:       </th> <td>   37.95</td>\n",
              "</tr>\n",
              "<tr>\n",
              "  <th>Date:</th>             <td>Mon, 21 Feb 2022</td> <th>  Prob (F-statistic):</th> <td>8.13e-06</td>\n",
              "</tr>\n",
              "<tr>\n",
              "  <th>Time:</th>                 <td>15:11:02</td>     <th>  Log-Likelihood:    </th> <td> -260.43</td>\n",
              "</tr>\n",
              "<tr>\n",
              "  <th>No. Observations:</th>      <td>    20</td>      <th>  AIC:               </th> <td>   524.9</td>\n",
              "</tr>\n",
              "<tr>\n",
              "  <th>Df Residuals:</th>          <td>    18</td>      <th>  BIC:               </th> <td>   526.8</td>\n",
              "</tr>\n",
              "<tr>\n",
              "  <th>Df Model:</th>              <td>     1</td>      <th>                     </th>     <td> </td>   \n",
              "</tr>\n",
              "<tr>\n",
              "  <th>Covariance Type:</th>      <td>nonrobust</td>    <th>                     </th>     <td> </td>   \n",
              "</tr>\n",
              "</table>\n",
              "<table class=\"simpletable\">\n",
              "<tr>\n",
              "           <td></td>              <th>coef</th>     <th>std err</th>      <th>t</th>      <th>P>|t|</th>  <th>[0.025</th>    <th>0.975]</th>  \n",
              "</tr>\n",
              "<tr>\n",
              "  <th>const</th>               <td> 2.608e+05</td> <td> 9.76e+04</td> <td>    2.673</td> <td> 0.016</td> <td> 5.58e+04</td> <td> 4.66e+05</td>\n",
              "</tr>\n",
              "<tr>\n",
              "  <th>House Size (sq.ft.)</th> <td>  401.9163</td> <td>   65.243</td> <td>    6.160</td> <td> 0.000</td> <td>  264.846</td> <td>  538.987</td>\n",
              "</tr>\n",
              "</table>\n",
              "<table class=\"simpletable\">\n",
              "<tr>\n",
              "  <th>Omnibus:</th>       <td> 1.238</td> <th>  Durbin-Watson:     </th> <td>   1.810</td>\n",
              "</tr>\n",
              "<tr>\n",
              "  <th>Prob(Omnibus):</th> <td> 0.538</td> <th>  Jarque-Bera (JB):  </th> <td>   0.715</td>\n",
              "</tr>\n",
              "<tr>\n",
              "  <th>Skew:</th>          <td>-0.459</td> <th>  Prob(JB):          </th> <td>   0.699</td>\n",
              "</tr>\n",
              "<tr>\n",
              "  <th>Kurtosis:</th>      <td> 2.884</td> <th>  Cond. No.          </th> <td>5.66e+03</td>\n",
              "</tr>\n",
              "</table><br/><br/>Warnings:<br/>[1] Standard Errors assume that the covariance matrix of the errors is correctly specified.<br/>[2] The condition number is large, 5.66e+03. This might indicate that there are<br/>strong multicollinearity or other numerical problems."
            ],
            "text/plain": [
              "<class 'statsmodels.iolib.summary.Summary'>\n",
              "\"\"\"\n",
              "                            OLS Regression Results                            \n",
              "==============================================================================\n",
              "Dep. Variable:            House Price   R-squared:                       0.678\n",
              "Model:                            OLS   Adj. R-squared:                  0.660\n",
              "Method:                 Least Squares   F-statistic:                     37.95\n",
              "Date:                Mon, 21 Feb 2022   Prob (F-statistic):           8.13e-06\n",
              "Time:                        15:11:02   Log-Likelihood:                -260.43\n",
              "No. Observations:                  20   AIC:                             524.9\n",
              "Df Residuals:                      18   BIC:                             526.8\n",
              "Df Model:                           1                                         \n",
              "Covariance Type:            nonrobust                                         \n",
              "=======================================================================================\n",
              "                          coef    std err          t      P>|t|      [0.025      0.975]\n",
              "---------------------------------------------------------------------------------------\n",
              "const                2.608e+05   9.76e+04      2.673      0.016    5.58e+04    4.66e+05\n",
              "House Size (sq.ft.)   401.9163     65.243      6.160      0.000     264.846     538.987\n",
              "==============================================================================\n",
              "Omnibus:                        1.238   Durbin-Watson:                   1.810\n",
              "Prob(Omnibus):                  0.538   Jarque-Bera (JB):                0.715\n",
              "Skew:                          -0.459   Prob(JB):                        0.699\n",
              "Kurtosis:                       2.884   Cond. No.                     5.66e+03\n",
              "==============================================================================\n",
              "\n",
              "Warnings:\n",
              "[1] Standard Errors assume that the covariance matrix of the errors is correctly specified.\n",
              "[2] The condition number is large, 5.66e+03. This might indicate that there are\n",
              "strong multicollinearity or other numerical problems.\n",
              "\"\"\""
            ]
          },
          "metadata": {},
          "execution_count": 36
        }
      ]
    },
    {
      "cell_type": "markdown",
      "source": [
        "From the Statistical Analysis Summary, it is inferred that the expected value of Y can be evaluated from the following equation:\n",
        "\n",
        ">Y = 2.608 * 10^5 + (402 * X)"
      ],
      "metadata": {
        "id": "iWwhRTkYy5Od"
      }
    },
    {
      "cell_type": "code",
      "source": [
        "# Evaluate the House Price for a square footage (X) of 1,000\n",
        "(2.608 * pow(10,5)) + (402 * 1000)"
      ],
      "metadata": {
        "colab": {
          "base_uri": "https://localhost:8080/"
        },
        "id": "-TtfUA8Oz6Ks",
        "outputId": "1a3b8af9-9967-43f9-98b3-b7df731bc620"
      },
      "execution_count": null,
      "outputs": [
        {
          "output_type": "execute_result",
          "data": {
            "text/plain": [
              "662800.0"
            ]
          },
          "metadata": {},
          "execution_count": 37
        }
      ]
    },
    {
      "cell_type": "code",
      "source": [
        "# Direct sourcing of statistical analysis variables\n",
        "slope, intercept, R_value, p_value, std_err = stats.linregress(X,Y)\n",
        "print('Slope (beta) = ', slope)\n",
        "print('Intercept (alpha) = ', intercept)\n",
        "print('R-squared = ', pow(R_value, 2))\n",
        "print('P-value = ', p_value)\n",
        "print('Standard Error = ', std_err)"
      ],
      "metadata": {
        "colab": {
          "base_uri": "https://localhost:8080/"
        },
        "id": "jyeP-x_V0Ou9",
        "outputId": "882b2eb5-c15e-4570-d0bc-07428fcfe998"
      },
      "execution_count": null,
      "outputs": [
        {
          "output_type": "stream",
          "name": "stdout",
          "text": [
            "Slope (beta) =  401.91628631922595\n",
            "Intercept (alpha) =  260806.2360560964\n",
            "R-squared =  0.678279986579124\n",
            "P-value =  8.129642377231308e-06\n",
            "Standard Error =  65.24299510636492\n"
          ]
        }
      ]
    },
    {
      "cell_type": "markdown",
      "source": [
        "## Multivariate Regressions\n",
        "\n",
        "Considering more explanatory variables (i.e. size, location, neighborhood).\n",
        "\n",
        "Should provided predictions (targets) that are closer to the true results.\n",
        "\n",
        "> Y_i = beta_0 + (beta_1 * X_1) + (beta_2 * X_2) +..+ (beta_i * x_i) + epsilon_i\n",
        "\n",
        "Multiple beta coefficients and explanatory variables.\n",
        "\n",
        "\n",
        ">Can determine if an explanatory variable improves a model's predictive power by the following procedures:\n",
        "1. Run a regression with the variable (a)\n",
        "  * calculated R-squared value\n",
        "2. Run a regression without the variable (a) or with a new variable (b)\n",
        "  * if R-squared values decreases, then variable a has good explanatory value\n",
        "\n",
        ">Alternatively,...\n",
        "1. Compare the p-values of beta coefficients \n",
        "  * the probability that the beta coefficients should have been different\n",
        "  * a **low p-value** - there is a low chance that the beta coefficients are different than estimated\n",
        "  - Example: a p-value lower than 5% means 95% confident that the beta coefficient estimated is different than 0\n",
        "\n",
        "❗ **Beta coefficients estimated in a multivariate regression can be interpreted as the marginal impact of the explanatory variable** ❗ "
      ],
      "metadata": {
        "id": "OijTyA-d2si1"
      }
    },
    {
      "cell_type": "code",
      "source": [
        "# Import relevant libraries\n",
        "import numpy as np\n",
        "import pandas as pd\n",
        "from scipy import stats\n",
        "import statsmodels.api as sm\n",
        "import matplotlib.pyplot as plt"
      ],
      "metadata": {
        "colab": {
          "base_uri": "https://localhost:8080/"
        },
        "id": "UDrPKLDP01O6",
        "outputId": "30239794-9949-44bc-90d3-d0d0e4432a75"
      },
      "execution_count": 1,
      "outputs": [
        {
          "output_type": "stream",
          "name": "stderr",
          "text": [
            "/usr/local/lib/python3.7/dist-packages/statsmodels/tools/_testing.py:19: FutureWarning: pandas.util.testing is deprecated. Use the functions in the public API at pandas.testing instead.\n",
            "  import pandas.util.testing as tm\n"
          ]
        }
      ]
    },
    {
      "cell_type": "code",
      "source": [
        " # Import the housing data\n",
        "housing_data = pd.read_excel('/content/drive/MyDrive/Finance_Investment/Housing.xlsx')\n",
        "housing_data.head(), housing_data.tail()"
      ],
      "metadata": {
        "colab": {
          "base_uri": "https://localhost:8080/"
        },
        "id": "ikm3JDGp5pKX",
        "outputId": "c8dfa689-7b7a-4373-abdb-c36b1c59cf25"
      },
      "execution_count": 2,
      "outputs": [
        {
          "output_type": "execute_result",
          "data": {
            "text/plain": [
              "(   House Price  House Size (sq.ft.)  ... Number of Rooms  Year of Construction\n",
              " 0      1116000                 1940  ...               8                  2002\n",
              " 1       860000                 1300  ...               5                  1992\n",
              " 2       818400                 1420  ...               6                  1987\n",
              " 3      1000000                 1680  ...               7                  2000\n",
              " 4       640000                 1270  ...               5                  1995\n",
              " \n",
              " [5 rows x 5 columns],\n",
              "     House Price  House Size (sq.ft.)  ... Number of Rooms  Year of Construction\n",
              " 15       900000                 1325  ...               6                  1997\n",
              " 16       730000                 1350  ...               6                  2000\n",
              " 17       750000                 1600  ...               6                  1992\n",
              " 18       650000                  950  ...               2                  1987\n",
              " 19       680000                 1250  ...               4                  2000\n",
              " \n",
              " [5 rows x 5 columns])"
            ]
          },
          "metadata": {},
          "execution_count": 2
        }
      ]
    },
    {
      "cell_type": "markdown",
      "source": [
        "**Provide Insights Regarding:**\n",
        "1. Does the `House Size (sq.ft.)`, `Number of Rooms` and `Year of Construction` have any effect on the price of housing?\n"
      ],
      "metadata": {
        "id": "zDronH6G59Uq"
      }
    },
    {
      "cell_type": "markdown",
      "source": [
        "####Independent Variable: `House Size(sq.ft.)`, `Number of Rooms`, and `Year of Construction`"
      ],
      "metadata": {
        "id": "CmkC1GeH9KU4"
      }
    },
    {
      "cell_type": "code",
      "source": [
        "# Declare the independent variables as X\n",
        "X = housing_data[['House Size (sq.ft.)', 'Number of Rooms', 'Year of Construction']]\n",
        "\n",
        "# Declare the dependent variables as Y\n",
        "Y = housing_data['House Price']\n",
        "\n",
        "# Review X and Y\n",
        "X.head(), X.tail(), Y.head(), Y.tail()"
      ],
      "metadata": {
        "colab": {
          "base_uri": "https://localhost:8080/"
        },
        "id": "t_rR5zHS6XNH",
        "outputId": "669b20ad-d728-4b02-eaf2-ed10b9bc020d"
      },
      "execution_count": 6,
      "outputs": [
        {
          "output_type": "execute_result",
          "data": {
            "text/plain": [
              "(   House Size (sq.ft.)  Number of Rooms  Year of Construction\n",
              " 0                 1940                8                  2002\n",
              " 1                 1300                5                  1992\n",
              " 2                 1420                6                  1987\n",
              " 3                 1680                7                  2000\n",
              " 4                 1270                5                  1995,\n",
              "     House Size (sq.ft.)  Number of Rooms  Year of Construction\n",
              " 15                 1325                6                  1997\n",
              " 16                 1350                6                  2000\n",
              " 17                 1600                6                  1992\n",
              " 18                  950                2                  1987\n",
              " 19                 1250                4                  2000,\n",
              " 0    1116000\n",
              " 1     860000\n",
              " 2     818400\n",
              " 3    1000000\n",
              " 4     640000\n",
              " Name: House Price, dtype: int64,\n",
              " 15    900000\n",
              " 16    730000\n",
              " 17    750000\n",
              " 18    650000\n",
              " 19    680000\n",
              " Name: House Price, dtype: int64)"
            ]
          },
          "metadata": {},
          "execution_count": 6
        }
      ]
    },
    {
      "cell_type": "code",
      "source": [
        "# Run an Ordinary Least Squares (OLS) Regression\n",
        "X1 = sm.add_constant(X)\n",
        "reg = sm.OLS(Y, X1).fit()\n",
        "\n",
        "reg.summary()"
      ],
      "metadata": {
        "colab": {
          "base_uri": "https://localhost:8080/",
          "height": 583
        },
        "id": "gKg2V2VI7CZp",
        "outputId": "d77f2072-dc6b-406c-f3ba-f4766fed4e12"
      },
      "execution_count": 7,
      "outputs": [
        {
          "output_type": "stream",
          "name": "stderr",
          "text": [
            "/usr/local/lib/python3.7/dist-packages/statsmodels/tsa/tsatools.py:117: FutureWarning: In a future version of pandas all arguments of concat except for the argument 'objs' will be keyword-only\n",
            "  x = pd.concat(x[::order], 1)\n"
          ]
        },
        {
          "output_type": "execute_result",
          "data": {
            "text/html": [
              "<table class=\"simpletable\">\n",
              "<caption>OLS Regression Results</caption>\n",
              "<tr>\n",
              "  <th>Dep. Variable:</th>       <td>House Price</td>   <th>  R-squared:         </th> <td>   0.736</td>\n",
              "</tr>\n",
              "<tr>\n",
              "  <th>Model:</th>                   <td>OLS</td>       <th>  Adj. R-squared:    </th> <td>   0.687</td>\n",
              "</tr>\n",
              "<tr>\n",
              "  <th>Method:</th>             <td>Least Squares</td>  <th>  F-statistic:       </th> <td>   14.90</td>\n",
              "</tr>\n",
              "<tr>\n",
              "  <th>Date:</th>             <td>Mon, 21 Feb 2022</td> <th>  Prob (F-statistic):</th> <td>6.82e-05</td>\n",
              "</tr>\n",
              "<tr>\n",
              "  <th>Time:</th>                 <td>20:17:24</td>     <th>  Log-Likelihood:    </th> <td> -258.43</td>\n",
              "</tr>\n",
              "<tr>\n",
              "  <th>No. Observations:</th>      <td>    20</td>      <th>  AIC:               </th> <td>   524.9</td>\n",
              "</tr>\n",
              "<tr>\n",
              "  <th>Df Residuals:</th>          <td>    16</td>      <th>  BIC:               </th> <td>   528.9</td>\n",
              "</tr>\n",
              "<tr>\n",
              "  <th>Df Model:</th>              <td>     3</td>      <th>                     </th>     <td> </td>   \n",
              "</tr>\n",
              "<tr>\n",
              "  <th>Covariance Type:</th>      <td>nonrobust</td>    <th>                     </th>     <td> </td>   \n",
              "</tr>\n",
              "</table>\n",
              "<table class=\"simpletable\">\n",
              "<tr>\n",
              "            <td></td>              <th>coef</th>     <th>std err</th>      <th>t</th>      <th>P>|t|</th>  <th>[0.025</th>    <th>0.975]</th>  \n",
              "</tr>\n",
              "<tr>\n",
              "  <th>const</th>                <td>-9.452e+06</td> <td>  5.4e+06</td> <td>   -1.752</td> <td> 0.099</td> <td>-2.09e+07</td> <td> 1.99e+06</td>\n",
              "</tr>\n",
              "<tr>\n",
              "  <th>House Size (sq.ft.)</th>  <td>  341.8271</td> <td>  179.666</td> <td>    1.903</td> <td> 0.075</td> <td>  -39.049</td> <td>  722.703</td>\n",
              "</tr>\n",
              "<tr>\n",
              "  <th>Number of Rooms</th>      <td>  1.16e+04</td> <td> 3.74e+04</td> <td>    0.310</td> <td> 0.760</td> <td>-6.77e+04</td> <td> 9.08e+04</td>\n",
              "</tr>\n",
              "<tr>\n",
              "  <th>Year of Construction</th> <td> 4863.5761</td> <td> 2697.969</td> <td>    1.803</td> <td> 0.090</td> <td> -855.862</td> <td> 1.06e+04</td>\n",
              "</tr>\n",
              "</table>\n",
              "<table class=\"simpletable\">\n",
              "<tr>\n",
              "  <th>Omnibus:</th>       <td> 2.140</td> <th>  Durbin-Watson:     </th> <td>   1.938</td>\n",
              "</tr>\n",
              "<tr>\n",
              "  <th>Prob(Omnibus):</th> <td> 0.343</td> <th>  Jarque-Bera (JB):  </th> <td>   1.747</td>\n",
              "</tr>\n",
              "<tr>\n",
              "  <th>Skew:</th>          <td>-0.676</td> <th>  Prob(JB):          </th> <td>   0.418</td>\n",
              "</tr>\n",
              "<tr>\n",
              "  <th>Kurtosis:</th>      <td> 2.484</td> <th>  Cond. No.          </th> <td>5.40e+05</td>\n",
              "</tr>\n",
              "</table><br/><br/>Warnings:<br/>[1] Standard Errors assume that the covariance matrix of the errors is correctly specified.<br/>[2] The condition number is large, 5.4e+05. This might indicate that there are<br/>strong multicollinearity or other numerical problems."
            ],
            "text/plain": [
              "<class 'statsmodels.iolib.summary.Summary'>\n",
              "\"\"\"\n",
              "                            OLS Regression Results                            \n",
              "==============================================================================\n",
              "Dep. Variable:            House Price   R-squared:                       0.736\n",
              "Model:                            OLS   Adj. R-squared:                  0.687\n",
              "Method:                 Least Squares   F-statistic:                     14.90\n",
              "Date:                Mon, 21 Feb 2022   Prob (F-statistic):           6.82e-05\n",
              "Time:                        20:17:24   Log-Likelihood:                -258.43\n",
              "No. Observations:                  20   AIC:                             524.9\n",
              "Df Residuals:                      16   BIC:                             528.9\n",
              "Df Model:                           3                                         \n",
              "Covariance Type:            nonrobust                                         \n",
              "========================================================================================\n",
              "                           coef    std err          t      P>|t|      [0.025      0.975]\n",
              "----------------------------------------------------------------------------------------\n",
              "const                -9.452e+06    5.4e+06     -1.752      0.099   -2.09e+07    1.99e+06\n",
              "House Size (sq.ft.)    341.8271    179.666      1.903      0.075     -39.049     722.703\n",
              "Number of Rooms        1.16e+04   3.74e+04      0.310      0.760   -6.77e+04    9.08e+04\n",
              "Year of Construction  4863.5761   2697.969      1.803      0.090    -855.862    1.06e+04\n",
              "==============================================================================\n",
              "Omnibus:                        2.140   Durbin-Watson:                   1.938\n",
              "Prob(Omnibus):                  0.343   Jarque-Bera (JB):                1.747\n",
              "Skew:                          -0.676   Prob(JB):                        0.418\n",
              "Kurtosis:                       2.484   Cond. No.                     5.40e+05\n",
              "==============================================================================\n",
              "\n",
              "Warnings:\n",
              "[1] Standard Errors assume that the covariance matrix of the errors is correctly specified.\n",
              "[2] The condition number is large, 5.4e+05. This might indicate that there are\n",
              "strong multicollinearity or other numerical problems.\n",
              "\"\"\""
            ]
          },
          "metadata": {},
          "execution_count": 7
        }
      ]
    },
    {
      "cell_type": "markdown",
      "source": [
        "**Did the additional independent variables help improve the explanatory power?**\n",
        "\n",
        ">Compare the R-squared values between the univariate regression and multivariate regression\n",
        "\n",
        ">Univariate Regression: \n",
        "  * R-squared = 0.678\n",
        "\n",
        ">Multivariate Regression: \n",
        "  * R-squared = 0.736\n",
        "  * p-valuea > 5%, thus not statistically significant\n",
        "\n",
        ">R-squared increase, thus the additional independent variables *could have increased* the explanatory power. Let's take a closer look to confirm."
      ],
      "metadata": {
        "id": "2pmZbbik7n7a"
      }
    },
    {
      "cell_type": "markdown",
      "source": [
        "### Independent Variables: `House Size (sq.ft.)` and `Number of Rooms`"
      ],
      "metadata": {
        "id": "WTm3tYz_9pYr"
      }
    },
    {
      "cell_type": "code",
      "source": [
        "# Declare new set of independent variables \n",
        "X_1 = housing_data[['House Size (sq.ft.)', 'Number of Rooms']]\n",
        "Y_1 = housing_data['House Price']\n",
        "X_1.head(), X_1.tail()"
      ],
      "metadata": {
        "colab": {
          "base_uri": "https://localhost:8080/"
        },
        "id": "nG2r7gQG91K_",
        "outputId": "01aa7ac7-5342-4ab0-9fa4-19195bceae40"
      },
      "execution_count": 21,
      "outputs": [
        {
          "output_type": "execute_result",
          "data": {
            "text/plain": [
              "(   House Size (sq.ft.)  Number of Rooms\n",
              " 0                 1940                8\n",
              " 1                 1300                5\n",
              " 2                 1420                6\n",
              " 3                 1680                7\n",
              " 4                 1270                5,\n",
              "     House Size (sq.ft.)  Number of Rooms\n",
              " 15                 1325                6\n",
              " 16                 1350                6\n",
              " 17                 1600                6\n",
              " 18                  950                2\n",
              " 19                 1250                4)"
            ]
          },
          "metadata": {},
          "execution_count": 21
        }
      ]
    },
    {
      "cell_type": "code",
      "source": [
        "# Run OLS Regression with X_1 independent variables\n",
        "X1_1 = sm.add_constant(X_1)\n",
        "reg_1 = sm.OLS(Y_1, X1_1).fit()\n",
        "\n",
        "reg_1.summary()"
      ],
      "metadata": {
        "colab": {
          "base_uri": "https://localhost:8080/",
          "height": 562
        },
        "id": "3JrVi5ap-G-E",
        "outputId": "195ac1e4-c7ca-4258-97f7-4c5138050c19"
      },
      "execution_count": 22,
      "outputs": [
        {
          "output_type": "stream",
          "name": "stderr",
          "text": [
            "/usr/local/lib/python3.7/dist-packages/statsmodels/tsa/tsatools.py:117: FutureWarning: In a future version of pandas all arguments of concat except for the argument 'objs' will be keyword-only\n",
            "  x = pd.concat(x[::order], 1)\n"
          ]
        },
        {
          "output_type": "execute_result",
          "data": {
            "text/html": [
              "<table class=\"simpletable\">\n",
              "<caption>OLS Regression Results</caption>\n",
              "<tr>\n",
              "  <th>Dep. Variable:</th>       <td>House Price</td>   <th>  R-squared:         </th> <td>   0.683</td>\n",
              "</tr>\n",
              "<tr>\n",
              "  <th>Model:</th>                   <td>OLS</td>       <th>  Adj. R-squared:    </th> <td>   0.645</td>\n",
              "</tr>\n",
              "<tr>\n",
              "  <th>Method:</th>             <td>Least Squares</td>  <th>  F-statistic:       </th> <td>   18.30</td>\n",
              "</tr>\n",
              "<tr>\n",
              "  <th>Date:</th>             <td>Mon, 21 Feb 2022</td> <th>  Prob (F-statistic):</th> <td>5.77e-05</td>\n",
              "</tr>\n",
              "<tr>\n",
              "  <th>Time:</th>                 <td>20:43:56</td>     <th>  Log-Likelihood:    </th> <td> -260.28</td>\n",
              "</tr>\n",
              "<tr>\n",
              "  <th>No. Observations:</th>      <td>    20</td>      <th>  AIC:               </th> <td>   526.6</td>\n",
              "</tr>\n",
              "<tr>\n",
              "  <th>Df Residuals:</th>          <td>    17</td>      <th>  BIC:               </th> <td>   529.6</td>\n",
              "</tr>\n",
              "<tr>\n",
              "  <th>Df Model:</th>              <td>     2</td>      <th>                     </th>     <td> </td>   \n",
              "</tr>\n",
              "<tr>\n",
              "  <th>Covariance Type:</th>      <td>nonrobust</td>    <th>                     </th>     <td> </td>   \n",
              "</tr>\n",
              "</table>\n",
              "<table class=\"simpletable\">\n",
              "<tr>\n",
              "           <td></td>              <th>coef</th>     <th>std err</th>      <th>t</th>      <th>P>|t|</th>  <th>[0.025</th>    <th>0.975]</th>  \n",
              "</tr>\n",
              "<tr>\n",
              "  <th>const</th>               <td> 2.737e+05</td> <td> 1.03e+05</td> <td>    2.655</td> <td> 0.017</td> <td> 5.62e+04</td> <td> 4.91e+05</td>\n",
              "</tr>\n",
              "<tr>\n",
              "  <th>House Size (sq.ft.)</th> <td>  314.1363</td> <td>  190.485</td> <td>    1.649</td> <td> 0.117</td> <td>  -87.752</td> <td>  716.025</td>\n",
              "</tr>\n",
              "<tr>\n",
              "  <th>Number of Rooms</th>     <td> 1.944e+04</td> <td> 3.95e+04</td> <td>    0.492</td> <td> 0.629</td> <td>-6.39e+04</td> <td> 1.03e+05</td>\n",
              "</tr>\n",
              "</table>\n",
              "<table class=\"simpletable\">\n",
              "<tr>\n",
              "  <th>Omnibus:</th>       <td> 1.326</td> <th>  Durbin-Watson:     </th> <td>   1.852</td>\n",
              "</tr>\n",
              "<tr>\n",
              "  <th>Prob(Omnibus):</th> <td> 0.515</td> <th>  Jarque-Bera (JB):  </th> <td>   0.810</td>\n",
              "</tr>\n",
              "<tr>\n",
              "  <th>Skew:</th>          <td>-0.487</td> <th>  Prob(JB):          </th> <td>   0.667</td>\n",
              "</tr>\n",
              "<tr>\n",
              "  <th>Kurtosis:</th>      <td> 2.853</td> <th>  Cond. No.          </th> <td>5.89e+03</td>\n",
              "</tr>\n",
              "</table><br/><br/>Warnings:<br/>[1] Standard Errors assume that the covariance matrix of the errors is correctly specified.<br/>[2] The condition number is large, 5.89e+03. This might indicate that there are<br/>strong multicollinearity or other numerical problems."
            ],
            "text/plain": [
              "<class 'statsmodels.iolib.summary.Summary'>\n",
              "\"\"\"\n",
              "                            OLS Regression Results                            \n",
              "==============================================================================\n",
              "Dep. Variable:            House Price   R-squared:                       0.683\n",
              "Model:                            OLS   Adj. R-squared:                  0.645\n",
              "Method:                 Least Squares   F-statistic:                     18.30\n",
              "Date:                Mon, 21 Feb 2022   Prob (F-statistic):           5.77e-05\n",
              "Time:                        20:43:56   Log-Likelihood:                -260.28\n",
              "No. Observations:                  20   AIC:                             526.6\n",
              "Df Residuals:                      17   BIC:                             529.6\n",
              "Df Model:                           2                                         \n",
              "Covariance Type:            nonrobust                                         \n",
              "=======================================================================================\n",
              "                          coef    std err          t      P>|t|      [0.025      0.975]\n",
              "---------------------------------------------------------------------------------------\n",
              "const                2.737e+05   1.03e+05      2.655      0.017    5.62e+04    4.91e+05\n",
              "House Size (sq.ft.)   314.1363    190.485      1.649      0.117     -87.752     716.025\n",
              "Number of Rooms      1.944e+04   3.95e+04      0.492      0.629   -6.39e+04    1.03e+05\n",
              "==============================================================================\n",
              "Omnibus:                        1.326   Durbin-Watson:                   1.852\n",
              "Prob(Omnibus):                  0.515   Jarque-Bera (JB):                0.810\n",
              "Skew:                          -0.487   Prob(JB):                        0.667\n",
              "Kurtosis:                       2.853   Cond. No.                     5.89e+03\n",
              "==============================================================================\n",
              "\n",
              "Warnings:\n",
              "[1] Standard Errors assume that the covariance matrix of the errors is correctly specified.\n",
              "[2] The condition number is large, 5.89e+03. This might indicate that there are\n",
              "strong multicollinearity or other numerical problems.\n",
              "\"\"\""
            ]
          },
          "metadata": {},
          "execution_count": 22
        }
      ]
    },
    {
      "cell_type": "markdown",
      "source": [
        "###Independent Variables: `House Size (sq.ft)` and `Year of Construction`"
      ],
      "metadata": {
        "id": "FhMXHBeR8gyf"
      }
    },
    {
      "cell_type": "code",
      "source": [
        "# Declare new set of independent variables \n",
        "X_2 = housing_data[['House Size (sq.ft.)', 'Year of Construction']]\n",
        "Y_2 = housing_data['House Price']\n",
        "X_2.head(), X_2.tail()"
      ],
      "metadata": {
        "colab": {
          "base_uri": "https://localhost:8080/"
        },
        "id": "fIPknygK9gQn",
        "outputId": "f21ffabe-ca8e-4ec3-c09d-1ebcac930b2d"
      },
      "execution_count": 23,
      "outputs": [
        {
          "output_type": "execute_result",
          "data": {
            "text/plain": [
              "(   House Size (sq.ft.)  Year of Construction\n",
              " 0                 1940                  2002\n",
              " 1                 1300                  1992\n",
              " 2                 1420                  1987\n",
              " 3                 1680                  2000\n",
              " 4                 1270                  1995,\n",
              "     House Size (sq.ft.)  Year of Construction\n",
              " 15                 1325                  1997\n",
              " 16                 1350                  2000\n",
              " 17                 1600                  1992\n",
              " 18                  950                  1987\n",
              " 19                 1250                  2000)"
            ]
          },
          "metadata": {},
          "execution_count": 23
        }
      ]
    },
    {
      "cell_type": "code",
      "source": [
        "# Run OLS regression wit X_3 independent variables\n",
        "X1_2 = sm.add_constant(X_2)\n",
        "reg_2 = sm.OLS(Y_2, X1_2).fit()\n",
        "\n",
        "reg_2.summary()"
      ],
      "metadata": {
        "colab": {
          "base_uri": "https://localhost:8080/",
          "height": 562
        },
        "id": "b0O5h7fe-inW",
        "outputId": "62c26aca-b9c0-407c-f1b0-4f48efca79dc"
      },
      "execution_count": 24,
      "outputs": [
        {
          "output_type": "stream",
          "name": "stderr",
          "text": [
            "/usr/local/lib/python3.7/dist-packages/statsmodels/tsa/tsatools.py:117: FutureWarning: In a future version of pandas all arguments of concat except for the argument 'objs' will be keyword-only\n",
            "  x = pd.concat(x[::order], 1)\n"
          ]
        },
        {
          "output_type": "execute_result",
          "data": {
            "text/html": [
              "<table class=\"simpletable\">\n",
              "<caption>OLS Regression Results</caption>\n",
              "<tr>\n",
              "  <th>Dep. Variable:</th>       <td>House Price</td>   <th>  R-squared:         </th> <td>   0.735</td>\n",
              "</tr>\n",
              "<tr>\n",
              "  <th>Model:</th>                   <td>OLS</td>       <th>  Adj. R-squared:    </th> <td>   0.704</td>\n",
              "</tr>\n",
              "<tr>\n",
              "  <th>Method:</th>             <td>Least Squares</td>  <th>  F-statistic:       </th> <td>   23.55</td>\n",
              "</tr>\n",
              "<tr>\n",
              "  <th>Date:</th>             <td>Mon, 21 Feb 2022</td> <th>  Prob (F-statistic):</th> <td>1.26e-05</td>\n",
              "</tr>\n",
              "<tr>\n",
              "  <th>Time:</th>                 <td>20:44:26</td>     <th>  Log-Likelihood:    </th> <td> -258.49</td>\n",
              "</tr>\n",
              "<tr>\n",
              "  <th>No. Observations:</th>      <td>    20</td>      <th>  AIC:               </th> <td>   523.0</td>\n",
              "</tr>\n",
              "<tr>\n",
              "  <th>Df Residuals:</th>          <td>    17</td>      <th>  BIC:               </th> <td>   526.0</td>\n",
              "</tr>\n",
              "<tr>\n",
              "  <th>Df Model:</th>              <td>     2</td>      <th>                     </th>     <td> </td>   \n",
              "</tr>\n",
              "<tr>\n",
              "  <th>Covariance Type:</th>      <td>nonrobust</td>    <th>                     </th>     <td> </td>   \n",
              "</tr>\n",
              "</table>\n",
              "<table class=\"simpletable\">\n",
              "<tr>\n",
              "            <td></td>              <th>coef</th>     <th>std err</th>      <th>t</th>      <th>P>|t|</th>  <th>[0.025</th>    <th>0.975]</th>  \n",
              "</tr>\n",
              "<tr>\n",
              "  <th>const</th>                <td>-9.654e+06</td> <td> 5.21e+06</td> <td>   -1.852</td> <td> 0.081</td> <td>-2.07e+07</td> <td> 1.34e+06</td>\n",
              "</tr>\n",
              "<tr>\n",
              "  <th>House Size (sq.ft.)</th>  <td>  394.0417</td> <td>   61.098</td> <td>    6.449</td> <td> 0.000</td> <td>  265.137</td> <td>  522.947</td>\n",
              "</tr>\n",
              "<tr>\n",
              "  <th>Year of Construction</th> <td> 4960.9407</td> <td> 2607.443</td> <td>    1.903</td> <td> 0.074</td> <td> -540.283</td> <td> 1.05e+04</td>\n",
              "</tr>\n",
              "</table>\n",
              "<table class=\"simpletable\">\n",
              "<tr>\n",
              "  <th>Omnibus:</th>       <td> 2.064</td> <th>  Durbin-Watson:     </th> <td>   1.926</td>\n",
              "</tr>\n",
              "<tr>\n",
              "  <th>Prob(Omnibus):</th> <td> 0.356</td> <th>  Jarque-Bera (JB):  </th> <td>   1.689</td>\n",
              "</tr>\n",
              "<tr>\n",
              "  <th>Skew:</th>          <td>-0.663</td> <th>  Prob(JB):          </th> <td>   0.430</td>\n",
              "</tr>\n",
              "<tr>\n",
              "  <th>Kurtosis:</th>      <td> 2.480</td> <th>  Cond. No.          </th> <td>5.36e+05</td>\n",
              "</tr>\n",
              "</table><br/><br/>Warnings:<br/>[1] Standard Errors assume that the covariance matrix of the errors is correctly specified.<br/>[2] The condition number is large, 5.36e+05. This might indicate that there are<br/>strong multicollinearity or other numerical problems."
            ],
            "text/plain": [
              "<class 'statsmodels.iolib.summary.Summary'>\n",
              "\"\"\"\n",
              "                            OLS Regression Results                            \n",
              "==============================================================================\n",
              "Dep. Variable:            House Price   R-squared:                       0.735\n",
              "Model:                            OLS   Adj. R-squared:                  0.704\n",
              "Method:                 Least Squares   F-statistic:                     23.55\n",
              "Date:                Mon, 21 Feb 2022   Prob (F-statistic):           1.26e-05\n",
              "Time:                        20:44:26   Log-Likelihood:                -258.49\n",
              "No. Observations:                  20   AIC:                             523.0\n",
              "Df Residuals:                      17   BIC:                             526.0\n",
              "Df Model:                           2                                         \n",
              "Covariance Type:            nonrobust                                         \n",
              "========================================================================================\n",
              "                           coef    std err          t      P>|t|      [0.025      0.975]\n",
              "----------------------------------------------------------------------------------------\n",
              "const                -9.654e+06   5.21e+06     -1.852      0.081   -2.07e+07    1.34e+06\n",
              "House Size (sq.ft.)    394.0417     61.098      6.449      0.000     265.137     522.947\n",
              "Year of Construction  4960.9407   2607.443      1.903      0.074    -540.283    1.05e+04\n",
              "==============================================================================\n",
              "Omnibus:                        2.064   Durbin-Watson:                   1.926\n",
              "Prob(Omnibus):                  0.356   Jarque-Bera (JB):                1.689\n",
              "Skew:                          -0.663   Prob(JB):                        0.430\n",
              "Kurtosis:                       2.480   Cond. No.                     5.36e+05\n",
              "==============================================================================\n",
              "\n",
              "Warnings:\n",
              "[1] Standard Errors assume that the covariance matrix of the errors is correctly specified.\n",
              "[2] The condition number is large, 5.36e+05. This might indicate that there are\n",
              "strong multicollinearity or other numerical problems.\n",
              "\"\"\""
            ]
          },
          "metadata": {},
          "execution_count": 24
        }
      ]
    },
    {
      "cell_type": "markdown",
      "source": [
        "###Independent Variables: `Number of Rooms` and `Year of Construction`"
      ],
      "metadata": {
        "id": "zMpXzeZDB1fZ"
      }
    },
    {
      "cell_type": "code",
      "source": [
        "# Declare new set of independent variables \n",
        "X_3 = housing_data[['Number of Rooms', 'Year of Construction']]\n",
        "Y_3 = housing_data['House Price']\n",
        "X_3.head(), X_3.tail()"
      ],
      "metadata": {
        "colab": {
          "base_uri": "https://localhost:8080/"
        },
        "id": "o-oniaVjB62u",
        "outputId": "74b262bc-c5fb-4ef8-c9a9-273ab068049d"
      },
      "execution_count": 27,
      "outputs": [
        {
          "output_type": "execute_result",
          "data": {
            "text/plain": [
              "(   Number of Rooms  Year of Construction\n",
              " 0                8                  2002\n",
              " 1                5                  1992\n",
              " 2                6                  1987\n",
              " 3                7                  2000\n",
              " 4                5                  1995,\n",
              "     Number of Rooms  Year of Construction\n",
              " 15                6                  1997\n",
              " 16                6                  2000\n",
              " 17                6                  1992\n",
              " 18                2                  1987\n",
              " 19                4                  2000)"
            ]
          },
          "metadata": {},
          "execution_count": 27
        }
      ]
    },
    {
      "cell_type": "code",
      "source": [
        "# Run OLS regression wit X_3 independent variables\n",
        "X1_3 = sm.add_constant(X_3)\n",
        "reg_3 = sm.OLS(Y_3, X1_3).fit()\n",
        "\n",
        "reg_3.summary()"
      ],
      "metadata": {
        "colab": {
          "base_uri": "https://localhost:8080/",
          "height": 562
        },
        "id": "hMnBjr01CM3n",
        "outputId": "b16fd30f-4348-4b73-da18-3961b77db06a"
      },
      "execution_count": 28,
      "outputs": [
        {
          "output_type": "stream",
          "name": "stderr",
          "text": [
            "/usr/local/lib/python3.7/dist-packages/statsmodels/tsa/tsatools.py:117: FutureWarning: In a future version of pandas all arguments of concat except for the argument 'objs' will be keyword-only\n",
            "  x = pd.concat(x[::order], 1)\n"
          ]
        },
        {
          "output_type": "execute_result",
          "data": {
            "text/html": [
              "<table class=\"simpletable\">\n",
              "<caption>OLS Regression Results</caption>\n",
              "<tr>\n",
              "  <th>Dep. Variable:</th>       <td>House Price</td>   <th>  R-squared:         </th> <td>   0.677</td>\n",
              "</tr>\n",
              "<tr>\n",
              "  <th>Model:</th>                   <td>OLS</td>       <th>  Adj. R-squared:    </th> <td>   0.639</td>\n",
              "</tr>\n",
              "<tr>\n",
              "  <th>Method:</th>             <td>Least Squares</td>  <th>  F-statistic:       </th> <td>   17.79</td>\n",
              "</tr>\n",
              "<tr>\n",
              "  <th>Date:</th>             <td>Mon, 21 Feb 2022</td> <th>  Prob (F-statistic):</th> <td>6.79e-05</td>\n",
              "</tr>\n",
              "<tr>\n",
              "  <th>Time:</th>                 <td>20:46:41</td>     <th>  Log-Likelihood:    </th> <td> -260.47</td>\n",
              "</tr>\n",
              "<tr>\n",
              "  <th>No. Observations:</th>      <td>    20</td>      <th>  AIC:               </th> <td>   526.9</td>\n",
              "</tr>\n",
              "<tr>\n",
              "  <th>Df Residuals:</th>          <td>    17</td>      <th>  BIC:               </th> <td>   529.9</td>\n",
              "</tr>\n",
              "<tr>\n",
              "  <th>Df Model:</th>              <td>     2</td>      <th>                     </th>     <td> </td>   \n",
              "</tr>\n",
              "<tr>\n",
              "  <th>Covariance Type:</th>      <td>nonrobust</td>    <th>                     </th>     <td> </td>   \n",
              "</tr>\n",
              "</table>\n",
              "<table class=\"simpletable\">\n",
              "<tr>\n",
              "            <td></td>              <th>coef</th>     <th>std err</th>      <th>t</th>      <th>P>|t|</th>  <th>[0.025</th>    <th>0.975]</th>  \n",
              "</tr>\n",
              "<tr>\n",
              "  <th>const</th>                <td>-8.471e+06</td> <td> 5.77e+06</td> <td>   -1.468</td> <td> 0.160</td> <td>-2.06e+07</td> <td>  3.7e+06</td>\n",
              "</tr>\n",
              "<tr>\n",
              "  <th>Number of Rooms</th>      <td> 7.824e+04</td> <td>  1.4e+04</td> <td>    5.574</td> <td> 0.000</td> <td> 4.86e+04</td> <td> 1.08e+05</td>\n",
              "</tr>\n",
              "<tr>\n",
              "  <th>Year of Construction</th> <td> 4424.7160</td> <td> 2887.793</td> <td>    1.532</td> <td> 0.144</td> <td>-1667.996</td> <td> 1.05e+04</td>\n",
              "</tr>\n",
              "</table>\n",
              "<table class=\"simpletable\">\n",
              "<tr>\n",
              "  <th>Omnibus:</th>       <td> 2.115</td> <th>  Durbin-Watson:     </th> <td>   1.959</td>\n",
              "</tr>\n",
              "<tr>\n",
              "  <th>Prob(Omnibus):</th> <td> 0.347</td> <th>  Jarque-Bera (JB):  </th> <td>   1.400</td>\n",
              "</tr>\n",
              "<tr>\n",
              "  <th>Skew:</th>          <td>-0.407</td> <th>  Prob(JB):          </th> <td>   0.497</td>\n",
              "</tr>\n",
              "<tr>\n",
              "  <th>Kurtosis:</th>      <td> 1.991</td> <th>  Cond. No.          </th> <td>4.34e+05</td>\n",
              "</tr>\n",
              "</table><br/><br/>Warnings:<br/>[1] Standard Errors assume that the covariance matrix of the errors is correctly specified.<br/>[2] The condition number is large, 4.34e+05. This might indicate that there are<br/>strong multicollinearity or other numerical problems."
            ],
            "text/plain": [
              "<class 'statsmodels.iolib.summary.Summary'>\n",
              "\"\"\"\n",
              "                            OLS Regression Results                            \n",
              "==============================================================================\n",
              "Dep. Variable:            House Price   R-squared:                       0.677\n",
              "Model:                            OLS   Adj. R-squared:                  0.639\n",
              "Method:                 Least Squares   F-statistic:                     17.79\n",
              "Date:                Mon, 21 Feb 2022   Prob (F-statistic):           6.79e-05\n",
              "Time:                        20:46:41   Log-Likelihood:                -260.47\n",
              "No. Observations:                  20   AIC:                             526.9\n",
              "Df Residuals:                      17   BIC:                             529.9\n",
              "Df Model:                           2                                         \n",
              "Covariance Type:            nonrobust                                         \n",
              "========================================================================================\n",
              "                           coef    std err          t      P>|t|      [0.025      0.975]\n",
              "----------------------------------------------------------------------------------------\n",
              "const                -8.471e+06   5.77e+06     -1.468      0.160   -2.06e+07     3.7e+06\n",
              "Number of Rooms       7.824e+04    1.4e+04      5.574      0.000    4.86e+04    1.08e+05\n",
              "Year of Construction  4424.7160   2887.793      1.532      0.144   -1667.996    1.05e+04\n",
              "==============================================================================\n",
              "Omnibus:                        2.115   Durbin-Watson:                   1.959\n",
              "Prob(Omnibus):                  0.347   Jarque-Bera (JB):                1.400\n",
              "Skew:                          -0.407   Prob(JB):                        0.497\n",
              "Kurtosis:                       1.991   Cond. No.                     4.34e+05\n",
              "==============================================================================\n",
              "\n",
              "Warnings:\n",
              "[1] Standard Errors assume that the covariance matrix of the errors is correctly specified.\n",
              "[2] The condition number is large, 4.34e+05. This might indicate that there are\n",
              "strong multicollinearity or other numerical problems.\n",
              "\"\"\""
            ]
          },
          "metadata": {},
          "execution_count": 28
        }
      ]
    },
    {
      "cell_type": "markdown",
      "source": [
        "`Year of Construction` \n",
        " * p-value was consistently on the higher spectrum in each of the regressions, thus not related to house prices.\n",
        "\n",
        "`House Size`\n",
        "  * p-value was not consistently low, thus cannot make a confirm determination if it has an effect on house prices\n",
        "\n",
        "`Number of Rooms`\n",
        "  * p-value was not consistently low, thus cannot make a confirm determination if it has an effect on house prices"
      ],
      "metadata": {
        "id": "UYTBK9r7-2B_"
      }
    },
    {
      "cell_type": "markdown",
      "source": [
        "### Next Steps: Gather more observations\n",
        "\n",
        "* The p-values of `House Size` and `Number of Rooms` might decrease, because the R-squared values remained relatively high which gives confidence that in general, the set of explanatory variables are satisfactory.\n",
        "\n",
        "* `House Size` and `Number of Rooms` might be related. Therefore, are essentially the same factor.\n",
        "\n",
        "* Gather more explanatory variables (i.e. distance of house to downtown, number of train stations nearby, etc.)"
      ],
      "metadata": {
        "id": "BTfLrVCADehK"
      }
    },
    {
      "cell_type": "markdown",
      "source": [
        "Importance of Regressions for Financial Analysis:\n",
        "1. Regressions can give a great direction for future research!\n",
        "2. Regressions are invaluable when studying historical data to predict future behavior!"
      ],
      "metadata": {
        "id": "1ItslyLaDqtA"
      }
    },
    {
      "cell_type": "code",
      "source": [
        ""
      ],
      "metadata": {
        "id": "qPI6_3ryE5bH"
      },
      "execution_count": null,
      "outputs": []
    }
  ]
}