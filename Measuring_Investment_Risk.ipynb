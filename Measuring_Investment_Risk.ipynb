{
  "nbformat": 4,
  "nbformat_minor": 0,
  "metadata": {
    "colab": {
      "name": "Measuring Investment Risk.ipynb",
      "provenance": [],
      "collapsed_sections": [],
      "toc_visible": true
    },
    "kernelspec": {
      "name": "python3",
      "display_name": "Python 3"
    },
    "language_info": {
      "name": "python"
    }
  },
  "cells": [
    {
      "cell_type": "markdown",
      "source": [
        "# Finance: Measuring Investment Risk"
      ],
      "metadata": {
        "id": "5PXo5jQE7lZK"
      }
    },
    {
      "cell_type": "markdown",
      "source": [
        "**Variability** -- plays an important role in the world of finance. It is the **best measure of risk** that we have.\n",
        "\n",
        "A volatile stock is much more likely to deviate from its historical returns and surprise investors negatively.\n",
        "\n",
        "Commonly used statistical measures, such as **variance** and **standard deviation**, can help a great deal when trying to quantify risk associated with the dispersion in the likely outcome. Such dispersion is measured by a security's variance and standard deviation.\n",
        "\n",
        ">**Sample Variance** - measures the dispersion of a set of data points around the mean\n",
        "\n",
        " >s^2 =  sum[(x - mean)^2] / (n-1)\n",
        "\n",
        " >**Standard Deviation**\n",
        "\n",
        " > s = sqrt(s^2)"
      ],
      "metadata": {
        "id": "yLNEHOhs8TNZ"
      }
    },
    {
      "cell_type": "markdown",
      "source": [
        "## Risk of a Security"
      ],
      "metadata": {
        "id": "42PV6bOs_HE6"
      }
    },
    {
      "cell_type": "code",
      "source": [
        "# Update pandas datareader\n",
        "!pip install --upgrade pandas-datareader"
      ],
      "metadata": {
        "colab": {
          "base_uri": "https://localhost:8080/"
        },
        "id": "V2cPflRUKwb3",
        "outputId": "f05d4932-dc3c-4098-967c-695fc6a3a79e"
      },
      "execution_count": 1,
      "outputs": [
        {
          "output_type": "stream",
          "name": "stdout",
          "text": [
            "Requirement already satisfied: pandas-datareader in /usr/local/lib/python3.7/dist-packages (0.10.0)\n",
            "Requirement already satisfied: requests>=2.19.0 in /usr/local/lib/python3.7/dist-packages (from pandas-datareader) (2.23.0)\n",
            "Requirement already satisfied: pandas>=0.23 in /usr/local/lib/python3.7/dist-packages (from pandas-datareader) (1.3.5)\n",
            "Requirement already satisfied: lxml in /usr/local/lib/python3.7/dist-packages (from pandas-datareader) (4.2.6)\n",
            "Requirement already satisfied: pytz>=2017.3 in /usr/local/lib/python3.7/dist-packages (from pandas>=0.23->pandas-datareader) (2018.9)\n",
            "Requirement already satisfied: python-dateutil>=2.7.3 in /usr/local/lib/python3.7/dist-packages (from pandas>=0.23->pandas-datareader) (2.8.2)\n",
            "Requirement already satisfied: numpy>=1.17.3 in /usr/local/lib/python3.7/dist-packages (from pandas>=0.23->pandas-datareader) (1.21.5)\n",
            "Requirement already satisfied: six>=1.5 in /usr/local/lib/python3.7/dist-packages (from python-dateutil>=2.7.3->pandas>=0.23->pandas-datareader) (1.15.0)\n",
            "Requirement already satisfied: idna<3,>=2.5 in /usr/local/lib/python3.7/dist-packages (from requests>=2.19.0->pandas-datareader) (2.10)\n",
            "Requirement already satisfied: urllib3!=1.25.0,!=1.25.1,<1.26,>=1.21.1 in /usr/local/lib/python3.7/dist-packages (from requests>=2.19.0->pandas-datareader) (1.24.3)\n",
            "Requirement already satisfied: chardet<4,>=3.0.2 in /usr/local/lib/python3.7/dist-packages (from requests>=2.19.0->pandas-datareader) (3.0.4)\n",
            "Requirement already satisfied: certifi>=2017.4.17 in /usr/local/lib/python3.7/dist-packages (from requests>=2.19.0->pandas-datareader) (2021.10.8)\n"
          ]
        }
      ]
    },
    {
      "cell_type": "code",
      "source": [
        "# Import the relevant libraries\n",
        "import numpy as np\n",
        "import pandas as pd\n",
        "from pandas_datareader import data as web\n",
        "import matplotlib.pyplot as plt"
      ],
      "metadata": {
        "id": "xbXFt78O9ibK"
      },
      "execution_count": 2,
      "outputs": []
    },
    {
      "cell_type": "code",
      "source": [
        "# Retrieve data for P&G and BEI from Yahoo Finance\n",
        "tickers = ['PG', 'BEI.DE']\n",
        "\n",
        "secur_data = pd.DataFrame()\n",
        "\n",
        "for t in tickers:\n",
        "  secur_data[t] = web.DataReader(t, data_source='yahoo', start='2007-1-1')['Adj Close']"
      ],
      "metadata": {
        "id": "6nejfGqa_TJT"
      },
      "execution_count": 3,
      "outputs": []
    },
    {
      "cell_type": "code",
      "source": [
        "# Review the last 5 rows of data from the securitys dataframe\n",
        "secur_data.tail()"
      ],
      "metadata": {
        "colab": {
          "base_uri": "https://localhost:8080/",
          "height": 237
        },
        "id": "OMcgmmO_BHwz",
        "outputId": "0563ccf5-c77f-486f-b54e-db75af4a2216"
      },
      "execution_count": 4,
      "outputs": [
        {
          "output_type": "execute_result",
          "data": {
            "text/html": [
              "\n",
              "  <div id=\"df-fbfd5aee-e63e-48b0-9795-4d982913e817\">\n",
              "    <div class=\"colab-df-container\">\n",
              "      <div>\n",
              "<style scoped>\n",
              "    .dataframe tbody tr th:only-of-type {\n",
              "        vertical-align: middle;\n",
              "    }\n",
              "\n",
              "    .dataframe tbody tr th {\n",
              "        vertical-align: top;\n",
              "    }\n",
              "\n",
              "    .dataframe thead th {\n",
              "        text-align: right;\n",
              "    }\n",
              "</style>\n",
              "<table border=\"1\" class=\"dataframe\">\n",
              "  <thead>\n",
              "    <tr style=\"text-align: right;\">\n",
              "      <th></th>\n",
              "      <th>PG</th>\n",
              "      <th>BEI.DE</th>\n",
              "    </tr>\n",
              "    <tr>\n",
              "      <th>Date</th>\n",
              "      <th></th>\n",
              "      <th></th>\n",
              "    </tr>\n",
              "  </thead>\n",
              "  <tbody>\n",
              "    <tr>\n",
              "      <th>2022-02-14</th>\n",
              "      <td>156.740005</td>\n",
              "      <td>87.480003</td>\n",
              "    </tr>\n",
              "    <tr>\n",
              "      <th>2022-02-15</th>\n",
              "      <td>156.820007</td>\n",
              "      <td>88.339996</td>\n",
              "    </tr>\n",
              "    <tr>\n",
              "      <th>2022-02-16</th>\n",
              "      <td>158.009995</td>\n",
              "      <td>88.239998</td>\n",
              "    </tr>\n",
              "    <tr>\n",
              "      <th>2022-02-17</th>\n",
              "      <td>159.820007</td>\n",
              "      <td>90.320000</td>\n",
              "    </tr>\n",
              "    <tr>\n",
              "      <th>2022-02-18</th>\n",
              "      <td>159.899994</td>\n",
              "      <td>91.120003</td>\n",
              "    </tr>\n",
              "  </tbody>\n",
              "</table>\n",
              "</div>\n",
              "      <button class=\"colab-df-convert\" onclick=\"convertToInteractive('df-fbfd5aee-e63e-48b0-9795-4d982913e817')\"\n",
              "              title=\"Convert this dataframe to an interactive table.\"\n",
              "              style=\"display:none;\">\n",
              "        \n",
              "  <svg xmlns=\"http://www.w3.org/2000/svg\" height=\"24px\"viewBox=\"0 0 24 24\"\n",
              "       width=\"24px\">\n",
              "    <path d=\"M0 0h24v24H0V0z\" fill=\"none\"/>\n",
              "    <path d=\"M18.56 5.44l.94 2.06.94-2.06 2.06-.94-2.06-.94-.94-2.06-.94 2.06-2.06.94zm-11 1L8.5 8.5l.94-2.06 2.06-.94-2.06-.94L8.5 2.5l-.94 2.06-2.06.94zm10 10l.94 2.06.94-2.06 2.06-.94-2.06-.94-.94-2.06-.94 2.06-2.06.94z\"/><path d=\"M17.41 7.96l-1.37-1.37c-.4-.4-.92-.59-1.43-.59-.52 0-1.04.2-1.43.59L10.3 9.45l-7.72 7.72c-.78.78-.78 2.05 0 2.83L4 21.41c.39.39.9.59 1.41.59.51 0 1.02-.2 1.41-.59l7.78-7.78 2.81-2.81c.8-.78.8-2.07 0-2.86zM5.41 20L4 18.59l7.72-7.72 1.47 1.35L5.41 20z\"/>\n",
              "  </svg>\n",
              "      </button>\n",
              "      \n",
              "  <style>\n",
              "    .colab-df-container {\n",
              "      display:flex;\n",
              "      flex-wrap:wrap;\n",
              "      gap: 12px;\n",
              "    }\n",
              "\n",
              "    .colab-df-convert {\n",
              "      background-color: #E8F0FE;\n",
              "      border: none;\n",
              "      border-radius: 50%;\n",
              "      cursor: pointer;\n",
              "      display: none;\n",
              "      fill: #1967D2;\n",
              "      height: 32px;\n",
              "      padding: 0 0 0 0;\n",
              "      width: 32px;\n",
              "    }\n",
              "\n",
              "    .colab-df-convert:hover {\n",
              "      background-color: #E2EBFA;\n",
              "      box-shadow: 0px 1px 2px rgba(60, 64, 67, 0.3), 0px 1px 3px 1px rgba(60, 64, 67, 0.15);\n",
              "      fill: #174EA6;\n",
              "    }\n",
              "\n",
              "    [theme=dark] .colab-df-convert {\n",
              "      background-color: #3B4455;\n",
              "      fill: #D2E3FC;\n",
              "    }\n",
              "\n",
              "    [theme=dark] .colab-df-convert:hover {\n",
              "      background-color: #434B5C;\n",
              "      box-shadow: 0px 1px 3px 1px rgba(0, 0, 0, 0.15);\n",
              "      filter: drop-shadow(0px 1px 2px rgba(0, 0, 0, 0.3));\n",
              "      fill: #FFFFFF;\n",
              "    }\n",
              "  </style>\n",
              "\n",
              "      <script>\n",
              "        const buttonEl =\n",
              "          document.querySelector('#df-fbfd5aee-e63e-48b0-9795-4d982913e817 button.colab-df-convert');\n",
              "        buttonEl.style.display =\n",
              "          google.colab.kernel.accessAllowed ? 'block' : 'none';\n",
              "\n",
              "        async function convertToInteractive(key) {\n",
              "          const element = document.querySelector('#df-fbfd5aee-e63e-48b0-9795-4d982913e817');\n",
              "          const dataTable =\n",
              "            await google.colab.kernel.invokeFunction('convertToInteractive',\n",
              "                                                     [key], {});\n",
              "          if (!dataTable) return;\n",
              "\n",
              "          const docLinkHtml = 'Like what you see? Visit the ' +\n",
              "            '<a target=\"_blank\" href=https://colab.research.google.com/notebooks/data_table.ipynb>data table notebook</a>'\n",
              "            + ' to learn more about interactive tables.';\n",
              "          element.innerHTML = '';\n",
              "          dataTable['output_type'] = 'display_data';\n",
              "          await google.colab.output.renderOutput(dataTable, element);\n",
              "          const docLink = document.createElement('div');\n",
              "          docLink.innerHTML = docLinkHtml;\n",
              "          element.appendChild(docLink);\n",
              "        }\n",
              "      </script>\n",
              "    </div>\n",
              "  </div>\n",
              "  "
            ],
            "text/plain": [
              "                    PG     BEI.DE\n",
              "Date                             \n",
              "2022-02-14  156.740005  87.480003\n",
              "2022-02-15  156.820007  88.339996\n",
              "2022-02-16  158.009995  88.239998\n",
              "2022-02-17  159.820007  90.320000\n",
              "2022-02-18  159.899994  91.120003"
            ]
          },
          "metadata": {},
          "execution_count": 4
        }
      ]
    },
    {
      "cell_type": "code",
      "source": [
        "# Evalauate the log rate of return for the security dataframe\n",
        "secur_returns = np.log(secur_data / secur_data.shift(1))\n",
        "secur_returns"
      ],
      "metadata": {
        "colab": {
          "base_uri": "https://localhost:8080/",
          "height": 454
        },
        "id": "EHhDXYruDSkR",
        "outputId": "bd83646b-0191-44a5-fc86-c5a2ff3bb039"
      },
      "execution_count": 5,
      "outputs": [
        {
          "output_type": "execute_result",
          "data": {
            "text/html": [
              "\n",
              "  <div id=\"df-34a01412-b593-4937-94ae-dcddcea7f6f7\">\n",
              "    <div class=\"colab-df-container\">\n",
              "      <div>\n",
              "<style scoped>\n",
              "    .dataframe tbody tr th:only-of-type {\n",
              "        vertical-align: middle;\n",
              "    }\n",
              "\n",
              "    .dataframe tbody tr th {\n",
              "        vertical-align: top;\n",
              "    }\n",
              "\n",
              "    .dataframe thead th {\n",
              "        text-align: right;\n",
              "    }\n",
              "</style>\n",
              "<table border=\"1\" class=\"dataframe\">\n",
              "  <thead>\n",
              "    <tr style=\"text-align: right;\">\n",
              "      <th></th>\n",
              "      <th>PG</th>\n",
              "      <th>BEI.DE</th>\n",
              "    </tr>\n",
              "    <tr>\n",
              "      <th>Date</th>\n",
              "      <th></th>\n",
              "      <th></th>\n",
              "    </tr>\n",
              "  </thead>\n",
              "  <tbody>\n",
              "    <tr>\n",
              "      <th>2007-01-03</th>\n",
              "      <td>NaN</td>\n",
              "      <td>NaN</td>\n",
              "    </tr>\n",
              "    <tr>\n",
              "      <th>2007-01-04</th>\n",
              "      <td>-0.007621</td>\n",
              "      <td>0.006545</td>\n",
              "    </tr>\n",
              "    <tr>\n",
              "      <th>2007-01-05</th>\n",
              "      <td>-0.008624</td>\n",
              "      <td>-0.020772</td>\n",
              "    </tr>\n",
              "    <tr>\n",
              "      <th>2007-01-08</th>\n",
              "      <td>0.002203</td>\n",
              "      <td>0.000202</td>\n",
              "    </tr>\n",
              "    <tr>\n",
              "      <th>2007-01-09</th>\n",
              "      <td>-0.002517</td>\n",
              "      <td>-0.022858</td>\n",
              "    </tr>\n",
              "    <tr>\n",
              "      <th>...</th>\n",
              "      <td>...</td>\n",
              "      <td>...</td>\n",
              "    </tr>\n",
              "    <tr>\n",
              "      <th>2022-02-14</th>\n",
              "      <td>0.002875</td>\n",
              "      <td>-0.005927</td>\n",
              "    </tr>\n",
              "    <tr>\n",
              "      <th>2022-02-15</th>\n",
              "      <td>0.000510</td>\n",
              "      <td>0.009783</td>\n",
              "    </tr>\n",
              "    <tr>\n",
              "      <th>2022-02-16</th>\n",
              "      <td>0.007560</td>\n",
              "      <td>-0.001133</td>\n",
              "    </tr>\n",
              "    <tr>\n",
              "      <th>2022-02-17</th>\n",
              "      <td>0.011390</td>\n",
              "      <td>0.023299</td>\n",
              "    </tr>\n",
              "    <tr>\n",
              "      <th>2022-02-18</th>\n",
              "      <td>0.000500</td>\n",
              "      <td>0.008818</td>\n",
              "    </tr>\n",
              "  </tbody>\n",
              "</table>\n",
              "<p>3811 rows × 2 columns</p>\n",
              "</div>\n",
              "      <button class=\"colab-df-convert\" onclick=\"convertToInteractive('df-34a01412-b593-4937-94ae-dcddcea7f6f7')\"\n",
              "              title=\"Convert this dataframe to an interactive table.\"\n",
              "              style=\"display:none;\">\n",
              "        \n",
              "  <svg xmlns=\"http://www.w3.org/2000/svg\" height=\"24px\"viewBox=\"0 0 24 24\"\n",
              "       width=\"24px\">\n",
              "    <path d=\"M0 0h24v24H0V0z\" fill=\"none\"/>\n",
              "    <path d=\"M18.56 5.44l.94 2.06.94-2.06 2.06-.94-2.06-.94-.94-2.06-.94 2.06-2.06.94zm-11 1L8.5 8.5l.94-2.06 2.06-.94-2.06-.94L8.5 2.5l-.94 2.06-2.06.94zm10 10l.94 2.06.94-2.06 2.06-.94-2.06-.94-.94-2.06-.94 2.06-2.06.94z\"/><path d=\"M17.41 7.96l-1.37-1.37c-.4-.4-.92-.59-1.43-.59-.52 0-1.04.2-1.43.59L10.3 9.45l-7.72 7.72c-.78.78-.78 2.05 0 2.83L4 21.41c.39.39.9.59 1.41.59.51 0 1.02-.2 1.41-.59l7.78-7.78 2.81-2.81c.8-.78.8-2.07 0-2.86zM5.41 20L4 18.59l7.72-7.72 1.47 1.35L5.41 20z\"/>\n",
              "  </svg>\n",
              "      </button>\n",
              "      \n",
              "  <style>\n",
              "    .colab-df-container {\n",
              "      display:flex;\n",
              "      flex-wrap:wrap;\n",
              "      gap: 12px;\n",
              "    }\n",
              "\n",
              "    .colab-df-convert {\n",
              "      background-color: #E8F0FE;\n",
              "      border: none;\n",
              "      border-radius: 50%;\n",
              "      cursor: pointer;\n",
              "      display: none;\n",
              "      fill: #1967D2;\n",
              "      height: 32px;\n",
              "      padding: 0 0 0 0;\n",
              "      width: 32px;\n",
              "    }\n",
              "\n",
              "    .colab-df-convert:hover {\n",
              "      background-color: #E2EBFA;\n",
              "      box-shadow: 0px 1px 2px rgba(60, 64, 67, 0.3), 0px 1px 3px 1px rgba(60, 64, 67, 0.15);\n",
              "      fill: #174EA6;\n",
              "    }\n",
              "\n",
              "    [theme=dark] .colab-df-convert {\n",
              "      background-color: #3B4455;\n",
              "      fill: #D2E3FC;\n",
              "    }\n",
              "\n",
              "    [theme=dark] .colab-df-convert:hover {\n",
              "      background-color: #434B5C;\n",
              "      box-shadow: 0px 1px 3px 1px rgba(0, 0, 0, 0.15);\n",
              "      filter: drop-shadow(0px 1px 2px rgba(0, 0, 0, 0.3));\n",
              "      fill: #FFFFFF;\n",
              "    }\n",
              "  </style>\n",
              "\n",
              "      <script>\n",
              "        const buttonEl =\n",
              "          document.querySelector('#df-34a01412-b593-4937-94ae-dcddcea7f6f7 button.colab-df-convert');\n",
              "        buttonEl.style.display =\n",
              "          google.colab.kernel.accessAllowed ? 'block' : 'none';\n",
              "\n",
              "        async function convertToInteractive(key) {\n",
              "          const element = document.querySelector('#df-34a01412-b593-4937-94ae-dcddcea7f6f7');\n",
              "          const dataTable =\n",
              "            await google.colab.kernel.invokeFunction('convertToInteractive',\n",
              "                                                     [key], {});\n",
              "          if (!dataTable) return;\n",
              "\n",
              "          const docLinkHtml = 'Like what you see? Visit the ' +\n",
              "            '<a target=\"_blank\" href=https://colab.research.google.com/notebooks/data_table.ipynb>data table notebook</a>'\n",
              "            + ' to learn more about interactive tables.';\n",
              "          element.innerHTML = '';\n",
              "          dataTable['output_type'] = 'display_data';\n",
              "          await google.colab.output.renderOutput(dataTable, element);\n",
              "          const docLink = document.createElement('div');\n",
              "          docLink.innerHTML = docLinkHtml;\n",
              "          element.appendChild(docLink);\n",
              "        }\n",
              "      </script>\n",
              "    </div>\n",
              "  </div>\n",
              "  "
            ],
            "text/plain": [
              "                  PG    BEI.DE\n",
              "Date                          \n",
              "2007-01-03       NaN       NaN\n",
              "2007-01-04 -0.007621  0.006545\n",
              "2007-01-05 -0.008624 -0.020772\n",
              "2007-01-08  0.002203  0.000202\n",
              "2007-01-09 -0.002517 -0.022858\n",
              "...              ...       ...\n",
              "2022-02-14  0.002875 -0.005927\n",
              "2022-02-15  0.000510  0.009783\n",
              "2022-02-16  0.007560 -0.001133\n",
              "2022-02-17  0.011390  0.023299\n",
              "2022-02-18  0.000500  0.008818\n",
              "\n",
              "[3811 rows x 2 columns]"
            ]
          },
          "metadata": {},
          "execution_count": 5
        }
      ]
    },
    {
      "cell_type": "markdown",
      "source": [
        "###P&G (PG)"
      ],
      "metadata": {
        "id": "raaJ6GSNDgSi"
      }
    },
    {
      "cell_type": "code",
      "source": [
        "PG_returns_daily = secur_returns['PG'].mean()\n",
        "PG_returns_annual = secur_returns['PG'].mean() * 250    # 250 trading days in a year\n",
        "PG_returns_dstd = secur_returns['PG'].std()\n",
        "PG_returns_astd = secur_returns['PG'].std() * 250 ** 0.5\n",
        "\n",
        "print('P&G Mean Daily Rate of Returns = ' + str(round(PG_returns_daily, 4)*100) +' %')\n",
        "print('P&G Mean Annual Rate of Returns = ' + str(round(PG_returns_annual,5)*100) + ' %')\n",
        "print('P&G Standard Deviation of Daily Rate of Return = ' + str(round(PG_returns_dstd,4)*100) + ' %')\n",
        "print('P&G Standard Deviation of Annual Rate of Return = ' + str(round(PG_returns_astd,4)*100) + ' %')"
      ],
      "metadata": {
        "colab": {
          "base_uri": "https://localhost:8080/"
        },
        "id": "yD1s_mZzHDFg",
        "outputId": "15241f2b-3301-4fc4-a388-398d5a7e6d8d"
      },
      "execution_count": 25,
      "outputs": [
        {
          "output_type": "stream",
          "name": "stdout",
          "text": [
            "P&G Mean Daily Rate of Returns = 0.04 %\n",
            "P&G Mean Annual Rate of Returns = 8.872 %\n",
            "P&G Standard Deviation of Daily Rate of Return = 1.17 %\n",
            "P&G Standard Deviation of Annual Rate of Return = 18.5 %\n"
          ]
        }
      ]
    },
    {
      "cell_type": "markdown",
      "source": [
        "### Beiersdorf (BEI.DE)"
      ],
      "metadata": {
        "id": "rPbT-ZhnIPhB"
      }
    },
    {
      "cell_type": "code",
      "source": [
        "BEI_returns_daily = secur_returns['BEI.DE'].mean()\n",
        "BEI_returns_annual = secur_returns['BEI.DE'].mean() * 250    # 250 trading days in a year\n",
        "BEI_returns_dstd = secur_returns['BEI.DE'].std()\n",
        "BEI_returns_astd = secur_returns['BEI.DE'].std() * 250 ** 0.5\n",
        "\n",
        "print('Beiersdorf Mean Daily Rate of Returns = ' + str(round(BEI_returns_daily, 4)*100) +' %')\n",
        "print('Beiersdorf Mean Annual Rate of Returns = ' + str(round(BEI_returns_annual,5)*100) + ' %')\n",
        "print('Beiersdorf Standard Deviation of Daily Rate of Return = ' + str(round(BEI_returns_dstd,4)*100) + ' %')\n",
        "print('Beiersdorf Standard Deviation of Annual Rate of Return = ' + str(round(BEI_returns_astd,4)*100) + ' %')"
      ],
      "metadata": {
        "colab": {
          "base_uri": "https://localhost:8080/"
        },
        "id": "ncSotg2zJthx",
        "outputId": "1c0bfb11-2629-4bdd-db20-eb2c9b122ece"
      },
      "execution_count": 26,
      "outputs": [
        {
          "output_type": "stream",
          "name": "stdout",
          "text": [
            "Beiersdorf Mean Daily Rate of Returns = 0.02 %\n",
            "Beiersdorf Mean Annual Rate of Returns = 4.72 %\n",
            "Beiersdorf Standard Deviation of Daily Rate of Return = 1.37 %\n",
            "Beiersdorf Standard Deviation of Annual Rate of Return = 21.63 %\n"
          ]
        }
      ]
    },
    {
      "cell_type": "markdown",
      "source": [
        "### Compare P&G to Beiersdorf"
      ],
      "metadata": {
        "id": "nc-yq1_8KDjL"
      }
    },
    {
      "cell_type": "code",
      "source": [
        "# Compare the annual means\n",
        "print('P&G Mean Annual Rate of Returns = ' + str(round(PG_returns_annual,5)*100) + ' %')\n",
        "print('Beiersdorf Mean Annual Rate of Returns = ' + str(round(BEI_returns_annual,5)*100) + ' %')"
      ],
      "metadata": {
        "colab": {
          "base_uri": "https://localhost:8080/"
        },
        "id": "QJgikjElKMcQ",
        "outputId": "2158ee56-e106-4f7a-c5ba-0f76d65a2518"
      },
      "execution_count": 29,
      "outputs": [
        {
          "output_type": "stream",
          "name": "stdout",
          "text": [
            "P&G Mean Annual Rate of Returns = 8.872 %\n",
            "Beiersdorf Mean Annual Rate of Returns = 4.72 %\n"
          ]
        }
      ]
    },
    {
      "cell_type": "markdown",
      "source": [
        "##Covariance and Correlation between Securities"
      ],
      "metadata": {
        "id": "Av_l6ll8KRd5"
      }
    },
    {
      "cell_type": "markdown",
      "source": [
        "It is reasonable to expect the prices of shares in a stock exchange are influenced by common factors. Favorable macroeconomic conditions facilitate the business of all companies. During a recession, consumer spending decreases and businesses suffer.\n",
        "\n",
        "Companies' shares are influenced by the state of the economy. However, different industries are influenced in different ways (i.e. some industries do better than others in times of crisis).\n",
        "\n",
        "**Covariance** -- measure of the joint variability to two random variables\n",
        "\n",
        "* (+) = two variables move in the same direction\n",
        "\n",
        "* (-) = two variables move in the opposite direction \n",
        "\n",
        "* 0 = two variables are independent from each other\n",
        "\n",
        "**Correlation** -- measure of the extent to which two variables are linearly related (change together at a constant rate)\n",
        " * *Perfect Correlation* = 1  \n",
        "   * i.e. square footage and rent cost\n",
        "   * entire variability of the second variable is explained by the first variable\n",
        " * *Perfect Negative Correlation* = -1 \n",
        "   * i.e. ice cream shop and umbrella business\n",
        " * *Imperfect Negative Correlation* = between -1 and 0\n",
        " * *Neutral Correlation* = 0 \n",
        "   * i.e. price coffee in Brazil and house prices in London\n",
        "   * two variables are independent from each other\n"
      ],
      "metadata": {
        "id": "-OoaYCR1K5u4"
      }
    },
    {
      "cell_type": "code",
      "source": [
        "# Determine the variance of P&G's daily and annual rate of returns\n",
        "PG_var = secur_returns['PG'].var()\n",
        "PG_avar = secur_returns['PG'].var() * 250   # 250 trading days in a year\n",
        "PG_var, PG_avar"
      ],
      "metadata": {
        "colab": {
          "base_uri": "https://localhost:8080/"
        },
        "id": "7F3pyNtbLaOt",
        "outputId": "0412be03-e967-450a-d047-c4dc117712e5"
      },
      "execution_count": 33,
      "outputs": [
        {
          "output_type": "execute_result",
          "data": {
            "text/plain": [
              "(0.00013693943166990133, 0.03423485791747533)"
            ]
          },
          "metadata": {},
          "execution_count": 33
        }
      ]
    },
    {
      "cell_type": "code",
      "source": [
        "# Determine the variance of BEI's daily and annual rate of returns\n",
        "BEI_var = secur_returns['BEI.DE'].var()\n",
        "BEI_avar = secur_returns['BEI.DE'].var() * 250  # 250 trading days in a year\n",
        "BEI_var, BEI_avar"
      ],
      "metadata": {
        "colab": {
          "base_uri": "https://localhost:8080/"
        },
        "id": "XItUkKkGQ39_",
        "outputId": "7ef83755-8ccc-4bde-e859-9ec1504627ef"
      },
      "execution_count": 36,
      "outputs": [
        {
          "output_type": "execute_result",
          "data": {
            "text/plain": [
              "(0.0001871465596325566, 0.046786639908139145)"
            ]
          },
          "metadata": {},
          "execution_count": 36
        }
      ]
    },
    {
      "cell_type": "markdown",
      "source": [
        "Alternatively, can determine the covariance of the `secur_returns` matrix to determine the daily and annual rate of returns for P&G and Beiersdorf."
      ],
      "metadata": {
        "id": "xkYze8rESRDA"
      }
    },
    {
      "cell_type": "code",
      "source": [
        "# Obtain daily covariance matrices for the rates of returns\n",
        "cov_matrix = secur_returns.cov()\n",
        "cov_matrix"
      ],
      "metadata": {
        "colab": {
          "base_uri": "https://localhost:8080/",
          "height": 112
        },
        "id": "TlO3Wgw4RBV3",
        "outputId": "a794b459-d581-402a-9085-b20216a7d8ec"
      },
      "execution_count": 39,
      "outputs": [
        {
          "output_type": "execute_result",
          "data": {
            "text/html": [
              "\n",
              "  <div id=\"df-70eb8f7e-0f2e-46db-800a-2f46f12f6d1c\">\n",
              "    <div class=\"colab-df-container\">\n",
              "      <div>\n",
              "<style scoped>\n",
              "    .dataframe tbody tr th:only-of-type {\n",
              "        vertical-align: middle;\n",
              "    }\n",
              "\n",
              "    .dataframe tbody tr th {\n",
              "        vertical-align: top;\n",
              "    }\n",
              "\n",
              "    .dataframe thead th {\n",
              "        text-align: right;\n",
              "    }\n",
              "</style>\n",
              "<table border=\"1\" class=\"dataframe\">\n",
              "  <thead>\n",
              "    <tr style=\"text-align: right;\">\n",
              "      <th></th>\n",
              "      <th>PG</th>\n",
              "      <th>BEI.DE</th>\n",
              "    </tr>\n",
              "  </thead>\n",
              "  <tbody>\n",
              "    <tr>\n",
              "      <th>PG</th>\n",
              "      <td>0.000137</td>\n",
              "      <td>0.000043</td>\n",
              "    </tr>\n",
              "    <tr>\n",
              "      <th>BEI.DE</th>\n",
              "      <td>0.000043</td>\n",
              "      <td>0.000187</td>\n",
              "    </tr>\n",
              "  </tbody>\n",
              "</table>\n",
              "</div>\n",
              "      <button class=\"colab-df-convert\" onclick=\"convertToInteractive('df-70eb8f7e-0f2e-46db-800a-2f46f12f6d1c')\"\n",
              "              title=\"Convert this dataframe to an interactive table.\"\n",
              "              style=\"display:none;\">\n",
              "        \n",
              "  <svg xmlns=\"http://www.w3.org/2000/svg\" height=\"24px\"viewBox=\"0 0 24 24\"\n",
              "       width=\"24px\">\n",
              "    <path d=\"M0 0h24v24H0V0z\" fill=\"none\"/>\n",
              "    <path d=\"M18.56 5.44l.94 2.06.94-2.06 2.06-.94-2.06-.94-.94-2.06-.94 2.06-2.06.94zm-11 1L8.5 8.5l.94-2.06 2.06-.94-2.06-.94L8.5 2.5l-.94 2.06-2.06.94zm10 10l.94 2.06.94-2.06 2.06-.94-2.06-.94-.94-2.06-.94 2.06-2.06.94z\"/><path d=\"M17.41 7.96l-1.37-1.37c-.4-.4-.92-.59-1.43-.59-.52 0-1.04.2-1.43.59L10.3 9.45l-7.72 7.72c-.78.78-.78 2.05 0 2.83L4 21.41c.39.39.9.59 1.41.59.51 0 1.02-.2 1.41-.59l7.78-7.78 2.81-2.81c.8-.78.8-2.07 0-2.86zM5.41 20L4 18.59l7.72-7.72 1.47 1.35L5.41 20z\"/>\n",
              "  </svg>\n",
              "      </button>\n",
              "      \n",
              "  <style>\n",
              "    .colab-df-container {\n",
              "      display:flex;\n",
              "      flex-wrap:wrap;\n",
              "      gap: 12px;\n",
              "    }\n",
              "\n",
              "    .colab-df-convert {\n",
              "      background-color: #E8F0FE;\n",
              "      border: none;\n",
              "      border-radius: 50%;\n",
              "      cursor: pointer;\n",
              "      display: none;\n",
              "      fill: #1967D2;\n",
              "      height: 32px;\n",
              "      padding: 0 0 0 0;\n",
              "      width: 32px;\n",
              "    }\n",
              "\n",
              "    .colab-df-convert:hover {\n",
              "      background-color: #E2EBFA;\n",
              "      box-shadow: 0px 1px 2px rgba(60, 64, 67, 0.3), 0px 1px 3px 1px rgba(60, 64, 67, 0.15);\n",
              "      fill: #174EA6;\n",
              "    }\n",
              "\n",
              "    [theme=dark] .colab-df-convert {\n",
              "      background-color: #3B4455;\n",
              "      fill: #D2E3FC;\n",
              "    }\n",
              "\n",
              "    [theme=dark] .colab-df-convert:hover {\n",
              "      background-color: #434B5C;\n",
              "      box-shadow: 0px 1px 3px 1px rgba(0, 0, 0, 0.15);\n",
              "      filter: drop-shadow(0px 1px 2px rgba(0, 0, 0, 0.3));\n",
              "      fill: #FFFFFF;\n",
              "    }\n",
              "  </style>\n",
              "\n",
              "      <script>\n",
              "        const buttonEl =\n",
              "          document.querySelector('#df-70eb8f7e-0f2e-46db-800a-2f46f12f6d1c button.colab-df-convert');\n",
              "        buttonEl.style.display =\n",
              "          google.colab.kernel.accessAllowed ? 'block' : 'none';\n",
              "\n",
              "        async function convertToInteractive(key) {\n",
              "          const element = document.querySelector('#df-70eb8f7e-0f2e-46db-800a-2f46f12f6d1c');\n",
              "          const dataTable =\n",
              "            await google.colab.kernel.invokeFunction('convertToInteractive',\n",
              "                                                     [key], {});\n",
              "          if (!dataTable) return;\n",
              "\n",
              "          const docLinkHtml = 'Like what you see? Visit the ' +\n",
              "            '<a target=\"_blank\" href=https://colab.research.google.com/notebooks/data_table.ipynb>data table notebook</a>'\n",
              "            + ' to learn more about interactive tables.';\n",
              "          element.innerHTML = '';\n",
              "          dataTable['output_type'] = 'display_data';\n",
              "          await google.colab.output.renderOutput(dataTable, element);\n",
              "          const docLink = document.createElement('div');\n",
              "          docLink.innerHTML = docLinkHtml;\n",
              "          element.appendChild(docLink);\n",
              "        }\n",
              "      </script>\n",
              "    </div>\n",
              "  </div>\n",
              "  "
            ],
            "text/plain": [
              "              PG    BEI.DE\n",
              "PG      0.000137  0.000043\n",
              "BEI.DE  0.000043  0.000187"
            ]
          },
          "metadata": {},
          "execution_count": 39
        }
      ]
    },
    {
      "cell_type": "code",
      "source": [
        "# Obtain annual covariance matrices for the rates of returns\n",
        "cov_amatrix = secur_returns.cov() * 250   # 250 trading days in a year\n",
        "cov_amatrix"
      ],
      "metadata": {
        "colab": {
          "base_uri": "https://localhost:8080/",
          "height": 112
        },
        "id": "n6sw6FkOR5Cw",
        "outputId": "07c9f365-4e37-4a2a-e987-0a983f3e62b7"
      },
      "execution_count": 40,
      "outputs": [
        {
          "output_type": "execute_result",
          "data": {
            "text/html": [
              "\n",
              "  <div id=\"df-32d6eb73-6411-4f6f-9727-377b5514f518\">\n",
              "    <div class=\"colab-df-container\">\n",
              "      <div>\n",
              "<style scoped>\n",
              "    .dataframe tbody tr th:only-of-type {\n",
              "        vertical-align: middle;\n",
              "    }\n",
              "\n",
              "    .dataframe tbody tr th {\n",
              "        vertical-align: top;\n",
              "    }\n",
              "\n",
              "    .dataframe thead th {\n",
              "        text-align: right;\n",
              "    }\n",
              "</style>\n",
              "<table border=\"1\" class=\"dataframe\">\n",
              "  <thead>\n",
              "    <tr style=\"text-align: right;\">\n",
              "      <th></th>\n",
              "      <th>PG</th>\n",
              "      <th>BEI.DE</th>\n",
              "    </tr>\n",
              "  </thead>\n",
              "  <tbody>\n",
              "    <tr>\n",
              "      <th>PG</th>\n",
              "      <td>0.034235</td>\n",
              "      <td>0.010734</td>\n",
              "    </tr>\n",
              "    <tr>\n",
              "      <th>BEI.DE</th>\n",
              "      <td>0.010734</td>\n",
              "      <td>0.046787</td>\n",
              "    </tr>\n",
              "  </tbody>\n",
              "</table>\n",
              "</div>\n",
              "      <button class=\"colab-df-convert\" onclick=\"convertToInteractive('df-32d6eb73-6411-4f6f-9727-377b5514f518')\"\n",
              "              title=\"Convert this dataframe to an interactive table.\"\n",
              "              style=\"display:none;\">\n",
              "        \n",
              "  <svg xmlns=\"http://www.w3.org/2000/svg\" height=\"24px\"viewBox=\"0 0 24 24\"\n",
              "       width=\"24px\">\n",
              "    <path d=\"M0 0h24v24H0V0z\" fill=\"none\"/>\n",
              "    <path d=\"M18.56 5.44l.94 2.06.94-2.06 2.06-.94-2.06-.94-.94-2.06-.94 2.06-2.06.94zm-11 1L8.5 8.5l.94-2.06 2.06-.94-2.06-.94L8.5 2.5l-.94 2.06-2.06.94zm10 10l.94 2.06.94-2.06 2.06-.94-2.06-.94-.94-2.06-.94 2.06-2.06.94z\"/><path d=\"M17.41 7.96l-1.37-1.37c-.4-.4-.92-.59-1.43-.59-.52 0-1.04.2-1.43.59L10.3 9.45l-7.72 7.72c-.78.78-.78 2.05 0 2.83L4 21.41c.39.39.9.59 1.41.59.51 0 1.02-.2 1.41-.59l7.78-7.78 2.81-2.81c.8-.78.8-2.07 0-2.86zM5.41 20L4 18.59l7.72-7.72 1.47 1.35L5.41 20z\"/>\n",
              "  </svg>\n",
              "      </button>\n",
              "      \n",
              "  <style>\n",
              "    .colab-df-container {\n",
              "      display:flex;\n",
              "      flex-wrap:wrap;\n",
              "      gap: 12px;\n",
              "    }\n",
              "\n",
              "    .colab-df-convert {\n",
              "      background-color: #E8F0FE;\n",
              "      border: none;\n",
              "      border-radius: 50%;\n",
              "      cursor: pointer;\n",
              "      display: none;\n",
              "      fill: #1967D2;\n",
              "      height: 32px;\n",
              "      padding: 0 0 0 0;\n",
              "      width: 32px;\n",
              "    }\n",
              "\n",
              "    .colab-df-convert:hover {\n",
              "      background-color: #E2EBFA;\n",
              "      box-shadow: 0px 1px 2px rgba(60, 64, 67, 0.3), 0px 1px 3px 1px rgba(60, 64, 67, 0.15);\n",
              "      fill: #174EA6;\n",
              "    }\n",
              "\n",
              "    [theme=dark] .colab-df-convert {\n",
              "      background-color: #3B4455;\n",
              "      fill: #D2E3FC;\n",
              "    }\n",
              "\n",
              "    [theme=dark] .colab-df-convert:hover {\n",
              "      background-color: #434B5C;\n",
              "      box-shadow: 0px 1px 3px 1px rgba(0, 0, 0, 0.15);\n",
              "      filter: drop-shadow(0px 1px 2px rgba(0, 0, 0, 0.3));\n",
              "      fill: #FFFFFF;\n",
              "    }\n",
              "  </style>\n",
              "\n",
              "      <script>\n",
              "        const buttonEl =\n",
              "          document.querySelector('#df-32d6eb73-6411-4f6f-9727-377b5514f518 button.colab-df-convert');\n",
              "        buttonEl.style.display =\n",
              "          google.colab.kernel.accessAllowed ? 'block' : 'none';\n",
              "\n",
              "        async function convertToInteractive(key) {\n",
              "          const element = document.querySelector('#df-32d6eb73-6411-4f6f-9727-377b5514f518');\n",
              "          const dataTable =\n",
              "            await google.colab.kernel.invokeFunction('convertToInteractive',\n",
              "                                                     [key], {});\n",
              "          if (!dataTable) return;\n",
              "\n",
              "          const docLinkHtml = 'Like what you see? Visit the ' +\n",
              "            '<a target=\"_blank\" href=https://colab.research.google.com/notebooks/data_table.ipynb>data table notebook</a>'\n",
              "            + ' to learn more about interactive tables.';\n",
              "          element.innerHTML = '';\n",
              "          dataTable['output_type'] = 'display_data';\n",
              "          await google.colab.output.renderOutput(dataTable, element);\n",
              "          const docLink = document.createElement('div');\n",
              "          docLink.innerHTML = docLinkHtml;\n",
              "          element.appendChild(docLink);\n",
              "        }\n",
              "      </script>\n",
              "    </div>\n",
              "  </div>\n",
              "  "
            ],
            "text/plain": [
              "              PG    BEI.DE\n",
              "PG      0.034235  0.010734\n",
              "BEI.DE  0.010734  0.046787"
            ]
          },
          "metadata": {},
          "execution_count": 40
        }
      ]
    },
    {
      "cell_type": "code",
      "source": [
        "# Obtain the daily correlations of the rates of return for P&G and Beiersdorf\n",
        "corr_matrix = secur_returns.corr()\n",
        "corr_matrix"
      ],
      "metadata": {
        "colab": {
          "base_uri": "https://localhost:8080/",
          "height": 112
        },
        "id": "Usyizql4SHAf",
        "outputId": "cfdf86f3-9cea-4192-f88f-6b331a9dbea7"
      },
      "execution_count": 42,
      "outputs": [
        {
          "output_type": "execute_result",
          "data": {
            "text/html": [
              "\n",
              "  <div id=\"df-a0b6756f-cd34-4652-bfdf-65737169b171\">\n",
              "    <div class=\"colab-df-container\">\n",
              "      <div>\n",
              "<style scoped>\n",
              "    .dataframe tbody tr th:only-of-type {\n",
              "        vertical-align: middle;\n",
              "    }\n",
              "\n",
              "    .dataframe tbody tr th {\n",
              "        vertical-align: top;\n",
              "    }\n",
              "\n",
              "    .dataframe thead th {\n",
              "        text-align: right;\n",
              "    }\n",
              "</style>\n",
              "<table border=\"1\" class=\"dataframe\">\n",
              "  <thead>\n",
              "    <tr style=\"text-align: right;\">\n",
              "      <th></th>\n",
              "      <th>PG</th>\n",
              "      <th>BEI.DE</th>\n",
              "    </tr>\n",
              "  </thead>\n",
              "  <tbody>\n",
              "    <tr>\n",
              "      <th>PG</th>\n",
              "      <td>1.000000</td>\n",
              "      <td>0.267836</td>\n",
              "    </tr>\n",
              "    <tr>\n",
              "      <th>BEI.DE</th>\n",
              "      <td>0.267836</td>\n",
              "      <td>1.000000</td>\n",
              "    </tr>\n",
              "  </tbody>\n",
              "</table>\n",
              "</div>\n",
              "      <button class=\"colab-df-convert\" onclick=\"convertToInteractive('df-a0b6756f-cd34-4652-bfdf-65737169b171')\"\n",
              "              title=\"Convert this dataframe to an interactive table.\"\n",
              "              style=\"display:none;\">\n",
              "        \n",
              "  <svg xmlns=\"http://www.w3.org/2000/svg\" height=\"24px\"viewBox=\"0 0 24 24\"\n",
              "       width=\"24px\">\n",
              "    <path d=\"M0 0h24v24H0V0z\" fill=\"none\"/>\n",
              "    <path d=\"M18.56 5.44l.94 2.06.94-2.06 2.06-.94-2.06-.94-.94-2.06-.94 2.06-2.06.94zm-11 1L8.5 8.5l.94-2.06 2.06-.94-2.06-.94L8.5 2.5l-.94 2.06-2.06.94zm10 10l.94 2.06.94-2.06 2.06-.94-2.06-.94-.94-2.06-.94 2.06-2.06.94z\"/><path d=\"M17.41 7.96l-1.37-1.37c-.4-.4-.92-.59-1.43-.59-.52 0-1.04.2-1.43.59L10.3 9.45l-7.72 7.72c-.78.78-.78 2.05 0 2.83L4 21.41c.39.39.9.59 1.41.59.51 0 1.02-.2 1.41-.59l7.78-7.78 2.81-2.81c.8-.78.8-2.07 0-2.86zM5.41 20L4 18.59l7.72-7.72 1.47 1.35L5.41 20z\"/>\n",
              "  </svg>\n",
              "      </button>\n",
              "      \n",
              "  <style>\n",
              "    .colab-df-container {\n",
              "      display:flex;\n",
              "      flex-wrap:wrap;\n",
              "      gap: 12px;\n",
              "    }\n",
              "\n",
              "    .colab-df-convert {\n",
              "      background-color: #E8F0FE;\n",
              "      border: none;\n",
              "      border-radius: 50%;\n",
              "      cursor: pointer;\n",
              "      display: none;\n",
              "      fill: #1967D2;\n",
              "      height: 32px;\n",
              "      padding: 0 0 0 0;\n",
              "      width: 32px;\n",
              "    }\n",
              "\n",
              "    .colab-df-convert:hover {\n",
              "      background-color: #E2EBFA;\n",
              "      box-shadow: 0px 1px 2px rgba(60, 64, 67, 0.3), 0px 1px 3px 1px rgba(60, 64, 67, 0.15);\n",
              "      fill: #174EA6;\n",
              "    }\n",
              "\n",
              "    [theme=dark] .colab-df-convert {\n",
              "      background-color: #3B4455;\n",
              "      fill: #D2E3FC;\n",
              "    }\n",
              "\n",
              "    [theme=dark] .colab-df-convert:hover {\n",
              "      background-color: #434B5C;\n",
              "      box-shadow: 0px 1px 3px 1px rgba(0, 0, 0, 0.15);\n",
              "      filter: drop-shadow(0px 1px 2px rgba(0, 0, 0, 0.3));\n",
              "      fill: #FFFFFF;\n",
              "    }\n",
              "  </style>\n",
              "\n",
              "      <script>\n",
              "        const buttonEl =\n",
              "          document.querySelector('#df-a0b6756f-cd34-4652-bfdf-65737169b171 button.colab-df-convert');\n",
              "        buttonEl.style.display =\n",
              "          google.colab.kernel.accessAllowed ? 'block' : 'none';\n",
              "\n",
              "        async function convertToInteractive(key) {\n",
              "          const element = document.querySelector('#df-a0b6756f-cd34-4652-bfdf-65737169b171');\n",
              "          const dataTable =\n",
              "            await google.colab.kernel.invokeFunction('convertToInteractive',\n",
              "                                                     [key], {});\n",
              "          if (!dataTable) return;\n",
              "\n",
              "          const docLinkHtml = 'Like what you see? Visit the ' +\n",
              "            '<a target=\"_blank\" href=https://colab.research.google.com/notebooks/data_table.ipynb>data table notebook</a>'\n",
              "            + ' to learn more about interactive tables.';\n",
              "          element.innerHTML = '';\n",
              "          dataTable['output_type'] = 'display_data';\n",
              "          await google.colab.output.renderOutput(dataTable, element);\n",
              "          const docLink = document.createElement('div');\n",
              "          docLink.innerHTML = docLinkHtml;\n",
              "          element.appendChild(docLink);\n",
              "        }\n",
              "      </script>\n",
              "    </div>\n",
              "  </div>\n",
              "  "
            ],
            "text/plain": [
              "              PG    BEI.DE\n",
              "PG      1.000000  0.267836\n",
              "BEI.DE  0.267836  1.000000"
            ]
          },
          "metadata": {},
          "execution_count": 42
        }
      ]
    },
    {
      "cell_type": "markdown",
      "source": [
        "❗❗❗**REMEMBER**❗❗❗\n",
        "\n",
        "The correlation of rates of return reflect the dependence between prices at different times and focuses on the returns of the portfolio.\n",
        "\n",
        "Whereas, the correlation of prices focuses on stock price levels."
      ],
      "metadata": {
        "id": "haGuur51TA_P"
      }
    },
    {
      "cell_type": "markdown",
      "source": [
        "## Portfolio Variance\n",
        "\n",
        "If a portfolio contains **n** stocks, its risk will be a function of the variances of the **n** stocks and of the correlation between them.\n",
        "\n",
        "> Variance (2 stocks) = (a + b)^2 = a^2 + 2ab + b^2\n",
        "\n",
        ">>![Variance.PNG](data:image/png;base64,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)\n"
      ],
      "metadata": {
        "id": "b9g7WYNaTlAN"
      }
    },
    {
      "cell_type": "markdown",
      "source": [
        "##Portfolio Risk (P&G and Beiersdorf)\n",
        "\n",
        "\n",
        "**Types of Risk:**\n",
        "1. *Systematic Risk* (cannot be eliminated)\n",
        " * the uncertainty that is characteristic of the entire market.\n",
        " * made of the day to day changes in stock priced and is caused by events that affect all companies.\n",
        " * i.e. recessions, low consumer spending, wars, forces of nature, etc.\n",
        "\n",
        "2. *Unsystematic/Idiosyncratic/Undiversifiable Risk* \n",
        " * company specific, even industry-specific, risks that can be smoothed out through diversification\n"
      ],
      "metadata": {
        "id": "YxwQsTYkUxlw"
      }
    },
    {
      "cell_type": "markdown",
      "source": [
        "###Equal Weighting Scheme"
      ],
      "metadata": {
        "id": "-LPNT0aTWfrn"
      }
    },
    {
      "cell_type": "code",
      "source": [
        "weights = np.array([0.5, 0.5])  \n",
        "weights"
      ],
      "metadata": {
        "colab": {
          "base_uri": "https://localhost:8080/"
        },
        "id": "8kbABha-WoH2",
        "outputId": "bdc7816c-1b7a-4a7d-d855-93e761fe77ed"
      },
      "execution_count": 45,
      "outputs": [
        {
          "output_type": "execute_result",
          "data": {
            "text/plain": [
              "array([0.5, 0.5])"
            ]
          },
          "metadata": {},
          "execution_count": 45
        }
      ]
    },
    {
      "cell_type": "markdown",
      "source": [
        "###Portfolio Variance"
      ],
      "metadata": {
        "id": "5HQkKfquWqem"
      }
    },
    {
      "cell_type": "markdown",
      "source": [
        "[w * Cov]^2 = w.transpose() * Cov * w = single number"
      ],
      "metadata": {
        "id": "nlKh93kCXyNf"
      }
    },
    {
      "cell_type": "code",
      "source": [
        "portf_var = np.dot(weights.T, np.dot(secur_returns.cov() * 250, weights))\n",
        "portf_var"
      ],
      "metadata": {
        "colab": {
          "base_uri": "https://localhost:8080/"
        },
        "id": "0Ye-UHy4WuWg",
        "outputId": "3dbb5273-01ea-4871-a1fc-e388138aa0bb"
      },
      "execution_count": 46,
      "outputs": [
        {
          "output_type": "execute_result",
          "data": {
            "text/plain": [
              "0.025622537062057367"
            ]
          },
          "metadata": {},
          "execution_count": 46
        }
      ]
    },
    {
      "cell_type": "markdown",
      "source": [
        "###Portfolio Volatility"
      ],
      "metadata": {
        "id": "NNDNABkRW53m"
      }
    },
    {
      "cell_type": "code",
      "source": [
        "portf_vol = pow((np.dot(weights.T, np.dot(secur_returns.cov() * 250, weights))),0.5)\n",
        "print(str(round(portf_vol, 3) * 100) + ' %')"
      ],
      "metadata": {
        "colab": {
          "base_uri": "https://localhost:8080/"
        },
        "id": "e34AwjvBW9wd",
        "outputId": "6be85b83-18f0-451c-c007-451d0d992fb9"
      },
      "execution_count": 57,
      "outputs": [
        {
          "output_type": "stream",
          "name": "stdout",
          "text": [
            "16.0 %\n"
          ]
        }
      ]
    },
    {
      "cell_type": "markdown",
      "source": [
        "###Diversifiable Risk\n",
        "\n",
        "Diversifiable Risk = Portfolio Variance - Weighted Annual Variances"
      ],
      "metadata": {
        "id": "6qiXKwrHXJgG"
      }
    },
    {
      "cell_type": "code",
      "source": [
        "div_risk = portf_var - (pow(weights[0],2) * PG_avar) - (pow(weights[1],2) * BEI_avar)\n",
        "print('Diversifiable Risk of the Portfolio = ' + str(round(div_risk,4) * 100) + ' %')"
      ],
      "metadata": {
        "colab": {
          "base_uri": "https://localhost:8080/"
        },
        "id": "ATJCCnu-aWmd",
        "outputId": "444019f4-e521-4d4d-a10b-5e9c04ec7a0d"
      },
      "execution_count": 88,
      "outputs": [
        {
          "output_type": "stream",
          "name": "stdout",
          "text": [
            "Diversifiable Risk of the Portfolio = 0.54 %\n"
          ]
        }
      ]
    },
    {
      "cell_type": "markdown",
      "source": [
        "###Non-Diversifiable Risk\n",
        "\n",
        "Non-Diversifiable Risk = Portfolio Variance - Diversifiable Risk \n",
        "\n",
        "or alternatively...\n",
        "\n",
        "Non-Diversifiable Risk = SUM(Weighted Annual Variances)"
      ],
      "metadata": {
        "id": "TXUT3R9raoMd"
      }
    },
    {
      "cell_type": "code",
      "source": [
        "non_div_risk = portf_var - div_risk\n",
        "print('Non-Diversifiable Risk of the Portfolio = ' + str(round(non_div_risk,4) * 100) + ' %')"
      ],
      "metadata": {
        "colab": {
          "base_uri": "https://localhost:8080/"
        },
        "id": "aNLNLoNRb3Sl",
        "outputId": "15c05e5d-3670-4d00-e945-0a73afaf7302"
      },
      "execution_count": 84,
      "outputs": [
        {
          "output_type": "stream",
          "name": "stdout",
          "text": [
            "Non-Diversifiable Risk of the Portfolio = 2.03 %\n"
          ]
        }
      ]
    },
    {
      "cell_type": "code",
      "source": [
        "non_div_risk2 = (pow(weights[0],2) * PG_avar) + (pow(weights[1],2) * BEI_avar)\n",
        "print('Non-Diversifiable Risk of the Portfolio = ' + str(round(non_div_risk2,4) * 100) + ' %')"
      ],
      "metadata": {
        "colab": {
          "base_uri": "https://localhost:8080/"
        },
        "id": "3pyWJM0_bgQF",
        "outputId": "3e9e758a-95ab-41e1-c67d-da7b2ca884ac"
      },
      "execution_count": 89,
      "outputs": [
        {
          "output_type": "stream",
          "name": "stdout",
          "text": [
            "Non-Diversifiable Risk of the Portfolio = 2.03 %\n"
          ]
        }
      ]
    },
    {
      "cell_type": "code",
      "source": [
        "# Check that both solutions from the different equations are equal\n",
        "int(non_div_risk) == int(non_div_risk2)   # had to use int as the floats were rounded at the ends"
      ],
      "metadata": {
        "colab": {
          "base_uri": "https://localhost:8080/"
        },
        "id": "RaXAEDAIbpg_",
        "outputId": "bd641925-1bbb-4da8-ed65-1648fc1dcafa"
      },
      "execution_count": 91,
      "outputs": [
        {
          "output_type": "execute_result",
          "data": {
            "text/plain": [
              "True"
            ]
          },
          "metadata": {},
          "execution_count": 91
        }
      ]
    },
    {
      "cell_type": "code",
      "source": [
        "non_div_risk, non_div_risk2"
      ],
      "metadata": {
        "colab": {
          "base_uri": "https://localhost:8080/"
        },
        "id": "L7FgVzR7cNS2",
        "outputId": "ef0175fa-b926-4c8c-c18c-68449878a72e"
      },
      "execution_count": 93,
      "outputs": [
        {
          "output_type": "execute_result",
          "data": {
            "text/plain": [
              "(0.020255374456403616, 0.02025537445640362)"
            ]
          },
          "metadata": {},
          "execution_count": 93
        }
      ]
    }
  ]
}